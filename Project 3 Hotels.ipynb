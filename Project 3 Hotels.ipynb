{
 "cells": [
  {
   "cell_type": "code",
   "execution_count": 228,
   "id": "5df4140b",
   "metadata": {
    "_cell_guid": "b1076dfc-b9ad-4769-8c92-a6c4dae69d19",
    "_uuid": "8f2839f25d086af736a60e9eeb907d3b93b6e0e5",
    "execution": {
     "iopub.execute_input": "2025-05-02T09:05:53.961375Z",
     "iopub.status.busy": "2025-05-02T09:05:53.960241Z",
     "iopub.status.idle": "2025-05-02T09:05:55.445710Z",
     "shell.execute_reply": "2025-05-02T09:05:55.445055Z",
     "shell.execute_reply.started": "2025-05-02T08:55:00.996462Z"
    },
    "papermill": {
     "duration": 1.524192,
     "end_time": "2025-05-02T09:05:55.445864",
     "exception": false,
     "start_time": "2025-05-02T09:05:53.921672",
     "status": "completed"
    },
    "tags": []
   },
   "outputs": [
    {
     "name": "stdout",
     "output_type": "stream",
     "text": [
      "data/hotels_test.csv\n",
      "data/hotels_train.csv\n",
      "data/submission.csv\n"
     ]
    }
   ],
   "source": [
    "# This Python 3 environment comes with many helpful analytics libraries installed\n",
    "# It is defined by the kaggle/python Docker image: https://github.com/kaggle/docker-python\n",
    "# For example, here's several helpful packages to load\n",
    "\n",
    "import numpy as np # linear algebra\n",
    "import pandas as pd # data processing, CSV file I/O (e.g. pd.read_csv)\n",
    "\n",
    "# импортируем библиотеки для визуализации\n",
    "import matplotlib.pyplot as plt\n",
    "import seaborn as sns \n",
    "%matplotlib inline\n",
    "\n",
    "# Загружаем специальный удобный инструмент для разделения датасета:\n",
    "from sklearn.model_selection import train_test_split\n",
    "\n",
    "from geopy.distance import great_circle  # Расчёт расстояний на основе координат\n",
    "\n",
    "# Input data files are available in the read-only \"../input/\" directory\n",
    "# For example, running this (by clicking run or pressing Shift+Enter) will list all files under the input directory\n",
    "\n",
    "import os\n",
    "# for Kaggle\n",
    "#for dirname, _, filenames in os.walk('/kaggle/input'):\n",
    "for dirname, _, filenames in os.walk('data/'):\n",
    "    for filename in filenames:\n",
    "        print(os.path.join(dirname, filename))\n",
    "\n",
    "# You can write up to 20GB to the current directory (/kaggle/working/) that gets preserved as output when you create a version using \"Save & Run All\" \n",
    "# You can also write temporary files to /kaggle/temp/, but they won't be saved outside of the current session"
   ]
  },
  {
   "cell_type": "code",
   "execution_count": 229,
   "id": "b8575e58",
   "metadata": {
    "execution": {
     "iopub.execute_input": "2025-05-02T09:05:55.494509Z",
     "iopub.status.busy": "2025-05-02T09:05:55.493873Z",
     "iopub.status.idle": "2025-05-02T09:05:55.497089Z",
     "shell.execute_reply": "2025-05-02T09:05:55.496427Z",
     "shell.execute_reply.started": "2025-05-02T08:55:02.451865Z"
    },
    "papermill": {
     "duration": 0.029318,
     "end_time": "2025-05-02T09:05:55.497229",
     "exception": false,
     "start_time": "2025-05-02T09:05:55.467911",
     "status": "completed"
    },
    "tags": []
   },
   "outputs": [],
   "source": [
    "# всегда фиксируйте RANDOM_SEED, чтобы ваши эксперименты были воспроизводимы!\n",
    "RANDOM_SEED = 42"
   ]
  },
  {
   "cell_type": "code",
   "execution_count": 230,
   "id": "3fc4b02c",
   "metadata": {
    "execution": {
     "iopub.execute_input": "2025-05-02T09:05:55.547185Z",
     "iopub.status.busy": "2025-05-02T09:05:55.545997Z",
     "iopub.status.idle": "2025-05-02T09:06:01.184202Z",
     "shell.execute_reply": "2025-05-02T09:06:01.183562Z",
     "shell.execute_reply.started": "2025-05-02T08:55:02.458477Z"
    },
    "papermill": {
     "duration": 5.665767,
     "end_time": "2025-05-02T09:06:01.184335",
     "exception": false,
     "start_time": "2025-05-02T09:05:55.518568",
     "status": "completed"
    },
    "tags": []
   },
   "outputs": [],
   "source": [
    "# зафиксируем версию пакетов, чтобы эксперименты были воспроизводимы:\n",
    "!pip freeze > requirements.txt"
   ]
  },
  {
   "cell_type": "code",
   "execution_count": 231,
   "id": "3f49903e",
   "metadata": {
    "execution": {
     "iopub.execute_input": "2025-05-02T09:06:01.234021Z",
     "iopub.status.busy": "2025-05-02T09:06:01.233186Z",
     "iopub.status.idle": "2025-05-02T09:06:07.616359Z",
     "shell.execute_reply": "2025-05-02T09:06:07.615858Z",
     "shell.execute_reply.started": "2025-05-02T08:55:07.963313Z"
    },
    "papermill": {
     "duration": 6.411246,
     "end_time": "2025-05-02T09:06:07.616507",
     "exception": false,
     "start_time": "2025-05-02T09:06:01.205261",
     "status": "completed"
    },
    "tags": []
   },
   "outputs": [],
   "source": [
    "# Подгрузим наши данные из соревнования\n",
    "\n",
    "#DATA_DIR = '/kaggle/input/sf-booking/'\n",
    "DATA_DIR = 'data/'\n",
    "df_train = pd.read_csv(DATA_DIR+'/hotels_train.csv') # датасет для обучения\n",
    "df_test = pd.read_csv(DATA_DIR+'hotels_test.csv') # датасет для предсказания\n",
    "sample_submission = pd.read_csv(DATA_DIR+'/submission.csv') # самбмишн"
   ]
  },
  {
   "cell_type": "code",
   "execution_count": 232,
   "id": "e437394e",
   "metadata": {
    "execution": {
     "iopub.execute_input": "2025-05-02T09:06:07.668913Z",
     "iopub.status.busy": "2025-05-02T09:06:07.667607Z",
     "iopub.status.idle": "2025-05-02T09:06:07.869292Z",
     "shell.execute_reply": "2025-05-02T09:06:07.868723Z",
     "shell.execute_reply.started": "2025-05-02T08:55:14.120297Z"
    },
    "papermill": {
     "duration": 0.231183,
     "end_time": "2025-05-02T09:06:07.869425",
     "exception": false,
     "start_time": "2025-05-02T09:06:07.638242",
     "status": "completed"
    },
    "tags": []
   },
   "outputs": [
    {
     "name": "stdout",
     "output_type": "stream",
     "text": [
      "<class 'pandas.core.frame.DataFrame'>\n",
      "RangeIndex: 386803 entries, 0 to 386802\n",
      "Data columns (total 17 columns):\n",
      " #   Column                                      Non-Null Count   Dtype  \n",
      "---  ------                                      --------------   -----  \n",
      " 0   hotel_address                               386803 non-null  object \n",
      " 1   additional_number_of_scoring                386803 non-null  int64  \n",
      " 2   review_date                                 386803 non-null  object \n",
      " 3   average_score                               386803 non-null  float64\n",
      " 4   hotel_name                                  386803 non-null  object \n",
      " 5   reviewer_nationality                        386803 non-null  object \n",
      " 6   negative_review                             386803 non-null  object \n",
      " 7   review_total_negative_word_counts           386803 non-null  int64  \n",
      " 8   total_number_of_reviews                     386803 non-null  int64  \n",
      " 9   positive_review                             386803 non-null  object \n",
      " 10  review_total_positive_word_counts           386803 non-null  int64  \n",
      " 11  total_number_of_reviews_reviewer_has_given  386803 non-null  int64  \n",
      " 12  reviewer_score                              386803 non-null  float64\n",
      " 13  tags                                        386803 non-null  object \n",
      " 14  days_since_review                           386803 non-null  object \n",
      " 15  lat                                         384355 non-null  float64\n",
      " 16  lng                                         384355 non-null  float64\n",
      "dtypes: float64(4), int64(5), object(8)\n",
      "memory usage: 50.2+ MB\n"
     ]
    }
   ],
   "source": [
    "df_train.info()"
   ]
  },
  {
   "cell_type": "code",
   "execution_count": 233,
   "id": "f35eb886",
   "metadata": {
    "execution": {
     "iopub.execute_input": "2025-05-02T09:06:07.919211Z",
     "iopub.status.busy": "2025-05-02T09:06:07.918538Z",
     "iopub.status.idle": "2025-05-02T09:06:07.938962Z",
     "shell.execute_reply": "2025-05-02T09:06:07.939397Z",
     "shell.execute_reply.started": "2025-05-02T08:55:14.335258Z"
    },
    "papermill": {
     "duration": 0.048937,
     "end_time": "2025-05-02T09:06:07.939554",
     "exception": false,
     "start_time": "2025-05-02T09:06:07.890617",
     "status": "completed"
    },
    "tags": []
   },
   "outputs": [
    {
     "data": {
      "text/html": [
       "<div>\n",
       "<style scoped>\n",
       "    .dataframe tbody tr th:only-of-type {\n",
       "        vertical-align: middle;\n",
       "    }\n",
       "\n",
       "    .dataframe tbody tr th {\n",
       "        vertical-align: top;\n",
       "    }\n",
       "\n",
       "    .dataframe thead th {\n",
       "        text-align: right;\n",
       "    }\n",
       "</style>\n",
       "<table border=\"1\" class=\"dataframe\">\n",
       "  <thead>\n",
       "    <tr style=\"text-align: right;\">\n",
       "      <th></th>\n",
       "      <th>hotel_address</th>\n",
       "      <th>additional_number_of_scoring</th>\n",
       "      <th>review_date</th>\n",
       "      <th>average_score</th>\n",
       "      <th>hotel_name</th>\n",
       "      <th>reviewer_nationality</th>\n",
       "      <th>negative_review</th>\n",
       "      <th>review_total_negative_word_counts</th>\n",
       "      <th>total_number_of_reviews</th>\n",
       "      <th>positive_review</th>\n",
       "      <th>review_total_positive_word_counts</th>\n",
       "      <th>total_number_of_reviews_reviewer_has_given</th>\n",
       "      <th>reviewer_score</th>\n",
       "      <th>tags</th>\n",
       "      <th>days_since_review</th>\n",
       "      <th>lat</th>\n",
       "      <th>lng</th>\n",
       "    </tr>\n",
       "  </thead>\n",
       "  <tbody>\n",
       "    <tr>\n",
       "      <th>0</th>\n",
       "      <td>Stratton Street Mayfair Westminster Borough Lo...</td>\n",
       "      <td>581</td>\n",
       "      <td>2/19/2016</td>\n",
       "      <td>8.4</td>\n",
       "      <td>The May Fair Hotel</td>\n",
       "      <td>United Kingdom</td>\n",
       "      <td>Leaving</td>\n",
       "      <td>3</td>\n",
       "      <td>1994</td>\n",
       "      <td>Staff were amazing</td>\n",
       "      <td>4</td>\n",
       "      <td>7</td>\n",
       "      <td>10.0</td>\n",
       "      <td>[' Leisure trip ', ' Couple ', ' Studio Suite ...</td>\n",
       "      <td>531 day</td>\n",
       "      <td>51.507894</td>\n",
       "      <td>-0.143671</td>\n",
       "    </tr>\n",
       "    <tr>\n",
       "      <th>1</th>\n",
       "      <td>130 134 Southampton Row Camden London WC1B 5AF...</td>\n",
       "      <td>299</td>\n",
       "      <td>1/12/2017</td>\n",
       "      <td>8.3</td>\n",
       "      <td>Mercure London Bloomsbury Hotel</td>\n",
       "      <td>United Kingdom</td>\n",
       "      <td>poor breakfast</td>\n",
       "      <td>3</td>\n",
       "      <td>1361</td>\n",
       "      <td>location</td>\n",
       "      <td>2</td>\n",
       "      <td>14</td>\n",
       "      <td>6.3</td>\n",
       "      <td>[' Business trip ', ' Couple ', ' Standard Dou...</td>\n",
       "      <td>203 day</td>\n",
       "      <td>51.521009</td>\n",
       "      <td>-0.123097</td>\n",
       "    </tr>\n",
       "    <tr>\n",
       "      <th>2</th>\n",
       "      <td>151 bis Rue de Rennes 6th arr 75006 Paris France</td>\n",
       "      <td>32</td>\n",
       "      <td>10/18/2016</td>\n",
       "      <td>8.9</td>\n",
       "      <td>Legend Saint Germain by Elegancia</td>\n",
       "      <td>China</td>\n",
       "      <td>No kettle in room</td>\n",
       "      <td>6</td>\n",
       "      <td>406</td>\n",
       "      <td>No Positive</td>\n",
       "      <td>0</td>\n",
       "      <td>14</td>\n",
       "      <td>7.5</td>\n",
       "      <td>[' Leisure trip ', ' Solo traveler ', ' Modern...</td>\n",
       "      <td>289 day</td>\n",
       "      <td>48.845377</td>\n",
       "      <td>2.325643</td>\n",
       "    </tr>\n",
       "    <tr>\n",
       "      <th>3</th>\n",
       "      <td>216 Avenue Jean Jaures 19th arr 75019 Paris Fr...</td>\n",
       "      <td>34</td>\n",
       "      <td>9/22/2015</td>\n",
       "      <td>7.5</td>\n",
       "      <td>Mercure Paris 19 Philharmonie La Villette</td>\n",
       "      <td>United Kingdom</td>\n",
       "      <td>No Negative</td>\n",
       "      <td>0</td>\n",
       "      <td>607</td>\n",
       "      <td>Friendly staff quiet comfortable room spotles...</td>\n",
       "      <td>11</td>\n",
       "      <td>8</td>\n",
       "      <td>10.0</td>\n",
       "      <td>[' Leisure trip ', ' Solo traveler ', ' Standa...</td>\n",
       "      <td>681 day</td>\n",
       "      <td>48.888697</td>\n",
       "      <td>2.394540</td>\n",
       "    </tr>\n",
       "  </tbody>\n",
       "</table>\n",
       "</div>"
      ],
      "text/plain": [
       "                                       hotel_address  \\\n",
       "0  Stratton Street Mayfair Westminster Borough Lo...   \n",
       "1  130 134 Southampton Row Camden London WC1B 5AF...   \n",
       "2   151 bis Rue de Rennes 6th arr 75006 Paris France   \n",
       "3  216 Avenue Jean Jaures 19th arr 75019 Paris Fr...   \n",
       "\n",
       "   additional_number_of_scoring review_date  average_score  \\\n",
       "0                           581   2/19/2016            8.4   \n",
       "1                           299   1/12/2017            8.3   \n",
       "2                            32  10/18/2016            8.9   \n",
       "3                            34   9/22/2015            7.5   \n",
       "\n",
       "                                  hotel_name reviewer_nationality  \\\n",
       "0                         The May Fair Hotel      United Kingdom    \n",
       "1            Mercure London Bloomsbury Hotel      United Kingdom    \n",
       "2          Legend Saint Germain by Elegancia               China    \n",
       "3  Mercure Paris 19 Philharmonie La Villette      United Kingdom    \n",
       "\n",
       "       negative_review  review_total_negative_word_counts  \\\n",
       "0             Leaving                                   3   \n",
       "1       poor breakfast                                  3   \n",
       "2   No kettle in room                                   6   \n",
       "3          No Negative                                  0   \n",
       "\n",
       "   total_number_of_reviews                                    positive_review  \\\n",
       "0                     1994                                 Staff were amazing   \n",
       "1                     1361                                           location   \n",
       "2                      406                                        No Positive   \n",
       "3                      607   Friendly staff quiet comfortable room spotles...   \n",
       "\n",
       "   review_total_positive_word_counts  \\\n",
       "0                                  4   \n",
       "1                                  2   \n",
       "2                                  0   \n",
       "3                                 11   \n",
       "\n",
       "   total_number_of_reviews_reviewer_has_given  reviewer_score  \\\n",
       "0                                           7            10.0   \n",
       "1                                          14             6.3   \n",
       "2                                          14             7.5   \n",
       "3                                           8            10.0   \n",
       "\n",
       "                                                tags days_since_review  \\\n",
       "0  [' Leisure trip ', ' Couple ', ' Studio Suite ...           531 day   \n",
       "1  [' Business trip ', ' Couple ', ' Standard Dou...           203 day   \n",
       "2  [' Leisure trip ', ' Solo traveler ', ' Modern...           289 day   \n",
       "3  [' Leisure trip ', ' Solo traveler ', ' Standa...           681 day   \n",
       "\n",
       "         lat       lng  \n",
       "0  51.507894 -0.143671  \n",
       "1  51.521009 -0.123097  \n",
       "2  48.845377  2.325643  \n",
       "3  48.888697  2.394540  "
      ]
     },
     "execution_count": 233,
     "metadata": {},
     "output_type": "execute_result"
    }
   ],
   "source": [
    "df_train.head(4)"
   ]
  },
  {
   "cell_type": "code",
   "execution_count": 234,
   "id": "cb2aa9de",
   "metadata": {
    "execution": {
     "iopub.execute_input": "2025-05-02T09:06:07.989679Z",
     "iopub.status.busy": "2025-05-02T09:06:07.989073Z",
     "iopub.status.idle": "2025-05-02T09:06:08.060117Z",
     "shell.execute_reply": "2025-05-02T09:06:08.059450Z",
     "shell.execute_reply.started": "2025-05-02T08:55:14.367126Z"
    },
    "papermill": {
     "duration": 0.097468,
     "end_time": "2025-05-02T09:06:08.060257",
     "exception": false,
     "start_time": "2025-05-02T09:06:07.962789",
     "status": "completed"
    },
    "tags": []
   },
   "outputs": [
    {
     "name": "stdout",
     "output_type": "stream",
     "text": [
      "<class 'pandas.core.frame.DataFrame'>\n",
      "RangeIndex: 128935 entries, 0 to 128934\n",
      "Data columns (total 16 columns):\n",
      " #   Column                                      Non-Null Count   Dtype  \n",
      "---  ------                                      --------------   -----  \n",
      " 0   hotel_address                               128935 non-null  object \n",
      " 1   additional_number_of_scoring                128935 non-null  int64  \n",
      " 2   review_date                                 128935 non-null  object \n",
      " 3   average_score                               128935 non-null  float64\n",
      " 4   hotel_name                                  128935 non-null  object \n",
      " 5   reviewer_nationality                        128935 non-null  object \n",
      " 6   negative_review                             128935 non-null  object \n",
      " 7   review_total_negative_word_counts           128935 non-null  int64  \n",
      " 8   total_number_of_reviews                     128935 non-null  int64  \n",
      " 9   positive_review                             128935 non-null  object \n",
      " 10  review_total_positive_word_counts           128935 non-null  int64  \n",
      " 11  total_number_of_reviews_reviewer_has_given  128935 non-null  int64  \n",
      " 12  tags                                        128935 non-null  object \n",
      " 13  days_since_review                           128935 non-null  object \n",
      " 14  lat                                         128115 non-null  float64\n",
      " 15  lng                                         128115 non-null  float64\n",
      "dtypes: float64(3), int64(5), object(8)\n",
      "memory usage: 15.7+ MB\n"
     ]
    }
   ],
   "source": [
    "df_test.info()"
   ]
  },
  {
   "cell_type": "code",
   "execution_count": 235,
   "id": "51ca8dab",
   "metadata": {
    "execution": {
     "iopub.execute_input": "2025-05-02T09:06:08.120760Z",
     "iopub.status.busy": "2025-05-02T09:06:08.120086Z",
     "iopub.status.idle": "2025-05-02T09:06:08.123763Z",
     "shell.execute_reply": "2025-05-02T09:06:08.123273Z",
     "shell.execute_reply.started": "2025-05-02T08:55:14.446001Z"
    },
    "papermill": {
     "duration": 0.04125,
     "end_time": "2025-05-02T09:06:08.123904",
     "exception": false,
     "start_time": "2025-05-02T09:06:08.082654",
     "status": "completed"
    },
    "tags": []
   },
   "outputs": [
    {
     "data": {
      "text/html": [
       "<div>\n",
       "<style scoped>\n",
       "    .dataframe tbody tr th:only-of-type {\n",
       "        vertical-align: middle;\n",
       "    }\n",
       "\n",
       "    .dataframe tbody tr th {\n",
       "        vertical-align: top;\n",
       "    }\n",
       "\n",
       "    .dataframe thead th {\n",
       "        text-align: right;\n",
       "    }\n",
       "</style>\n",
       "<table border=\"1\" class=\"dataframe\">\n",
       "  <thead>\n",
       "    <tr style=\"text-align: right;\">\n",
       "      <th></th>\n",
       "      <th>hotel_address</th>\n",
       "      <th>additional_number_of_scoring</th>\n",
       "      <th>review_date</th>\n",
       "      <th>average_score</th>\n",
       "      <th>hotel_name</th>\n",
       "      <th>reviewer_nationality</th>\n",
       "      <th>negative_review</th>\n",
       "      <th>review_total_negative_word_counts</th>\n",
       "      <th>total_number_of_reviews</th>\n",
       "      <th>positive_review</th>\n",
       "      <th>review_total_positive_word_counts</th>\n",
       "      <th>total_number_of_reviews_reviewer_has_given</th>\n",
       "      <th>tags</th>\n",
       "      <th>days_since_review</th>\n",
       "      <th>lat</th>\n",
       "      <th>lng</th>\n",
       "    </tr>\n",
       "  </thead>\n",
       "  <tbody>\n",
       "    <tr>\n",
       "      <th>0</th>\n",
       "      <td>Via Senigallia 6 20161 Milan Italy</td>\n",
       "      <td>904</td>\n",
       "      <td>7/21/2017</td>\n",
       "      <td>8.1</td>\n",
       "      <td>Hotel Da Vinci</td>\n",
       "      <td>United Kingdom</td>\n",
       "      <td>Would have appreciated a shop in the hotel th...</td>\n",
       "      <td>52</td>\n",
       "      <td>16670</td>\n",
       "      <td>Hotel was great clean friendly staff free bre...</td>\n",
       "      <td>62</td>\n",
       "      <td>1</td>\n",
       "      <td>[' Leisure trip ', ' Couple ', ' Double Room '...</td>\n",
       "      <td>13 days</td>\n",
       "      <td>45.533137</td>\n",
       "      <td>9.171102</td>\n",
       "    </tr>\n",
       "    <tr>\n",
       "      <th>1</th>\n",
       "      <td>Arlandaweg 10 Westpoort 1043 EW Amsterdam Neth...</td>\n",
       "      <td>612</td>\n",
       "      <td>12/12/2016</td>\n",
       "      <td>8.6</td>\n",
       "      <td>Urban Lodge Hotel</td>\n",
       "      <td>Belgium</td>\n",
       "      <td>No tissue paper box was present at the room</td>\n",
       "      <td>10</td>\n",
       "      <td>5018</td>\n",
       "      <td>No Positive</td>\n",
       "      <td>0</td>\n",
       "      <td>7</td>\n",
       "      <td>[' Leisure trip ', ' Group ', ' Triple Room ',...</td>\n",
       "      <td>234 day</td>\n",
       "      <td>52.385649</td>\n",
       "      <td>4.834443</td>\n",
       "    </tr>\n",
       "    <tr>\n",
       "      <th>2</th>\n",
       "      <td>Mallorca 251 Eixample 08008 Barcelona Spain</td>\n",
       "      <td>46</td>\n",
       "      <td>11/26/2015</td>\n",
       "      <td>8.3</td>\n",
       "      <td>Alexandra Barcelona A DoubleTree by Hilton</td>\n",
       "      <td>Sweden</td>\n",
       "      <td>Pillows</td>\n",
       "      <td>3</td>\n",
       "      <td>351</td>\n",
       "      <td>Nice welcoming and service</td>\n",
       "      <td>5</td>\n",
       "      <td>15</td>\n",
       "      <td>[' Business trip ', ' Solo traveler ', ' Twin ...</td>\n",
       "      <td>616 day</td>\n",
       "      <td>41.393192</td>\n",
       "      <td>2.161520</td>\n",
       "    </tr>\n",
       "    <tr>\n",
       "      <th>3</th>\n",
       "      <td>Piazza Della Repubblica 17 Central Station 201...</td>\n",
       "      <td>241</td>\n",
       "      <td>10/17/2015</td>\n",
       "      <td>9.1</td>\n",
       "      <td>Hotel Principe Di Savoia</td>\n",
       "      <td>United States of America</td>\n",
       "      <td>No Negative</td>\n",
       "      <td>0</td>\n",
       "      <td>1543</td>\n",
       "      <td>Everything including the nice upgrade The Hot...</td>\n",
       "      <td>27</td>\n",
       "      <td>9</td>\n",
       "      <td>[' Leisure trip ', ' Couple ', ' Ambassador Ju...</td>\n",
       "      <td>656 day</td>\n",
       "      <td>45.479888</td>\n",
       "      <td>9.196298</td>\n",
       "    </tr>\n",
       "  </tbody>\n",
       "</table>\n",
       "</div>"
      ],
      "text/plain": [
       "                                       hotel_address  \\\n",
       "0                 Via Senigallia 6 20161 Milan Italy   \n",
       "1  Arlandaweg 10 Westpoort 1043 EW Amsterdam Neth...   \n",
       "2        Mallorca 251 Eixample 08008 Barcelona Spain   \n",
       "3  Piazza Della Repubblica 17 Central Station 201...   \n",
       "\n",
       "   additional_number_of_scoring review_date  average_score  \\\n",
       "0                           904   7/21/2017            8.1   \n",
       "1                           612  12/12/2016            8.6   \n",
       "2                            46  11/26/2015            8.3   \n",
       "3                           241  10/17/2015            9.1   \n",
       "\n",
       "                                   hotel_name        reviewer_nationality  \\\n",
       "0                              Hotel Da Vinci             United Kingdom    \n",
       "1                           Urban Lodge Hotel                    Belgium    \n",
       "2  Alexandra Barcelona A DoubleTree by Hilton                     Sweden    \n",
       "3                    Hotel Principe Di Savoia   United States of America    \n",
       "\n",
       "                                     negative_review  \\\n",
       "0   Would have appreciated a shop in the hotel th...   \n",
       "1        No tissue paper box was present at the room   \n",
       "2                                           Pillows    \n",
       "3                                        No Negative   \n",
       "\n",
       "   review_total_negative_word_counts  total_number_of_reviews  \\\n",
       "0                                 52                    16670   \n",
       "1                                 10                     5018   \n",
       "2                                  3                      351   \n",
       "3                                  0                     1543   \n",
       "\n",
       "                                     positive_review  \\\n",
       "0   Hotel was great clean friendly staff free bre...   \n",
       "1                                        No Positive   \n",
       "2                         Nice welcoming and service   \n",
       "3   Everything including the nice upgrade The Hot...   \n",
       "\n",
       "   review_total_positive_word_counts  \\\n",
       "0                                 62   \n",
       "1                                  0   \n",
       "2                                  5   \n",
       "3                                 27   \n",
       "\n",
       "   total_number_of_reviews_reviewer_has_given  \\\n",
       "0                                           1   \n",
       "1                                           7   \n",
       "2                                          15   \n",
       "3                                           9   \n",
       "\n",
       "                                                tags days_since_review  \\\n",
       "0  [' Leisure trip ', ' Couple ', ' Double Room '...           13 days   \n",
       "1  [' Leisure trip ', ' Group ', ' Triple Room ',...           234 day   \n",
       "2  [' Business trip ', ' Solo traveler ', ' Twin ...           616 day   \n",
       "3  [' Leisure trip ', ' Couple ', ' Ambassador Ju...           656 day   \n",
       "\n",
       "         lat       lng  \n",
       "0  45.533137  9.171102  \n",
       "1  52.385649  4.834443  \n",
       "2  41.393192  2.161520  \n",
       "3  45.479888  9.196298  "
      ]
     },
     "execution_count": 235,
     "metadata": {},
     "output_type": "execute_result"
    }
   ],
   "source": [
    "df_test.head(4)"
   ]
  },
  {
   "cell_type": "code",
   "execution_count": 236,
   "id": "9d665214",
   "metadata": {
    "execution": {
     "iopub.execute_input": "2025-05-02T09:06:08.177419Z",
     "iopub.status.busy": "2025-05-02T09:06:08.176489Z",
     "iopub.status.idle": "2025-05-02T09:06:08.180580Z",
     "shell.execute_reply": "2025-05-02T09:06:08.180124Z",
     "shell.execute_reply.started": "2025-05-02T08:55:14.464168Z"
    },
    "papermill": {
     "duration": 0.034444,
     "end_time": "2025-05-02T09:06:08.180760",
     "exception": false,
     "start_time": "2025-05-02T09:06:08.146316",
     "status": "completed"
    },
    "tags": []
   },
   "outputs": [
    {
     "data": {
      "text/html": [
       "<div>\n",
       "<style scoped>\n",
       "    .dataframe tbody tr th:only-of-type {\n",
       "        vertical-align: middle;\n",
       "    }\n",
       "\n",
       "    .dataframe tbody tr th {\n",
       "        vertical-align: top;\n",
       "    }\n",
       "\n",
       "    .dataframe thead th {\n",
       "        text-align: right;\n",
       "    }\n",
       "</style>\n",
       "<table border=\"1\" class=\"dataframe\">\n",
       "  <thead>\n",
       "    <tr style=\"text-align: right;\">\n",
       "      <th></th>\n",
       "      <th>reviewer_score</th>\n",
       "      <th>id</th>\n",
       "    </tr>\n",
       "  </thead>\n",
       "  <tbody>\n",
       "    <tr>\n",
       "      <th>0</th>\n",
       "      <td>8.833</td>\n",
       "      <td>488440</td>\n",
       "    </tr>\n",
       "    <tr>\n",
       "      <th>1</th>\n",
       "      <td>7.392</td>\n",
       "      <td>274649</td>\n",
       "    </tr>\n",
       "    <tr>\n",
       "      <th>2</th>\n",
       "      <td>8.412</td>\n",
       "      <td>374688</td>\n",
       "    </tr>\n",
       "    <tr>\n",
       "      <th>3</th>\n",
       "      <td>9.459</td>\n",
       "      <td>404352</td>\n",
       "    </tr>\n",
       "  </tbody>\n",
       "</table>\n",
       "</div>"
      ],
      "text/plain": [
       "   reviewer_score      id\n",
       "0           8.833  488440\n",
       "1           7.392  274649\n",
       "2           8.412  374688\n",
       "3           9.459  404352"
      ]
     },
     "execution_count": 236,
     "metadata": {},
     "output_type": "execute_result"
    }
   ],
   "source": [
    "sample_submission.head(4)"
   ]
  },
  {
   "cell_type": "code",
   "execution_count": 237,
   "id": "556fc14c",
   "metadata": {
    "execution": {
     "iopub.execute_input": "2025-05-02T09:06:08.237909Z",
     "iopub.status.busy": "2025-05-02T09:06:08.231679Z",
     "iopub.status.idle": "2025-05-02T09:06:08.241539Z",
     "shell.execute_reply": "2025-05-02T09:06:08.241059Z",
     "shell.execute_reply.started": "2025-05-02T08:55:14.490513Z"
    },
    "papermill": {
     "duration": 0.038133,
     "end_time": "2025-05-02T09:06:08.241711",
     "exception": false,
     "start_time": "2025-05-02T09:06:08.203578",
     "status": "completed"
    },
    "tags": []
   },
   "outputs": [
    {
     "name": "stdout",
     "output_type": "stream",
     "text": [
      "<class 'pandas.core.frame.DataFrame'>\n",
      "RangeIndex: 128935 entries, 0 to 128934\n",
      "Data columns (total 2 columns):\n",
      " #   Column          Non-Null Count   Dtype  \n",
      "---  ------          --------------   -----  \n",
      " 0   reviewer_score  128935 non-null  float64\n",
      " 1   id              128935 non-null  int64  \n",
      "dtypes: float64(1), int64(1)\n",
      "memory usage: 2.0 MB\n"
     ]
    }
   ],
   "source": [
    "sample_submission.info()"
   ]
  },
  {
   "cell_type": "markdown",
   "id": "09da795e",
   "metadata": {},
   "source": [
    "#### Проверим наличие дубликатов"
   ]
  },
  {
   "cell_type": "code",
   "execution_count": 238,
   "id": "1b56568d",
   "metadata": {},
   "outputs": [
    {
     "data": {
      "text/plain": [
       "'Число найденных дубликатов: 307'"
      ]
     },
     "metadata": {},
     "output_type": "display_data"
    }
   ],
   "source": [
    "dupl_columns = list(df_train.columns)\n",
    "\n",
    "mask = df_train.duplicated(subset=dupl_columns)\n",
    "h_duplicates = df_train[mask]\n",
    "display(f'Число найденных дубликатов: {h_duplicates.shape[0]}')"
   ]
  },
  {
   "cell_type": "markdown",
   "id": "e8bbf2f9",
   "metadata": {},
   "source": [
    "#### Удалим дубликаты"
   ]
  },
  {
   "cell_type": "code",
   "execution_count": 239,
   "id": "466bfc14",
   "metadata": {},
   "outputs": [],
   "source": [
    "df_train = df_train.drop_duplicates(subset=dupl_columns)"
   ]
  },
  {
   "cell_type": "code",
   "execution_count": 240,
   "id": "a3b079a7",
   "metadata": {
    "execution": {
     "iopub.execute_input": "2025-05-02T09:06:08.295134Z",
     "iopub.status.busy": "2025-05-02T09:06:08.294040Z",
     "iopub.status.idle": "2025-05-02T09:06:08.886706Z",
     "shell.execute_reply": "2025-05-02T09:06:08.886170Z",
     "shell.execute_reply.started": "2025-05-02T08:55:14.513666Z"
    },
    "papermill": {
     "duration": 0.620912,
     "end_time": "2025-05-02T09:06:08.886853",
     "exception": false,
     "start_time": "2025-05-02T09:06:08.265941",
     "status": "completed"
    },
    "tags": []
   },
   "outputs": [],
   "source": [
    "# ВАЖНО! дря корректной обработки признаков объединяем трейн и тест в один датасет\n",
    "df_train['sample'] = 1 # помечаем где у нас трейн\n",
    "df_test['sample'] = 0 # помечаем где у нас тест\n",
    "df_test['reviewer_score'] = 0 # в тесте у нас нет значения reviewer_score, мы его должны предсказать, по этому пока просто заполняем нулями\n",
    "\n",
    "data = pd.concat([df_test,df_train], ignore_index=True, sort=False) # объединяем"
   ]
  },
  {
   "cell_type": "code",
   "execution_count": 241,
   "id": "9d12d59d",
   "metadata": {
    "execution": {
     "iopub.execute_input": "2025-05-02T09:06:08.938020Z",
     "iopub.status.busy": "2025-05-02T09:06:08.937389Z",
     "iopub.status.idle": "2025-05-02T09:06:09.183238Z",
     "shell.execute_reply": "2025-05-02T09:06:09.182603Z",
     "shell.execute_reply.started": "2025-05-02T08:55:15.080036Z"
    },
    "papermill": {
     "duration": 0.273372,
     "end_time": "2025-05-02T09:06:09.183372",
     "exception": false,
     "start_time": "2025-05-02T09:06:08.910000",
     "status": "completed"
    },
    "tags": []
   },
   "outputs": [
    {
     "name": "stdout",
     "output_type": "stream",
     "text": [
      "<class 'pandas.core.frame.DataFrame'>\n",
      "RangeIndex: 515431 entries, 0 to 515430\n",
      "Data columns (total 18 columns):\n",
      " #   Column                                      Non-Null Count   Dtype  \n",
      "---  ------                                      --------------   -----  \n",
      " 0   hotel_address                               515431 non-null  object \n",
      " 1   additional_number_of_scoring                515431 non-null  int64  \n",
      " 2   review_date                                 515431 non-null  object \n",
      " 3   average_score                               515431 non-null  float64\n",
      " 4   hotel_name                                  515431 non-null  object \n",
      " 5   reviewer_nationality                        515431 non-null  object \n",
      " 6   negative_review                             515431 non-null  object \n",
      " 7   review_total_negative_word_counts           515431 non-null  int64  \n",
      " 8   total_number_of_reviews                     515431 non-null  int64  \n",
      " 9   positive_review                             515431 non-null  object \n",
      " 10  review_total_positive_word_counts           515431 non-null  int64  \n",
      " 11  total_number_of_reviews_reviewer_has_given  515431 non-null  int64  \n",
      " 12  tags                                        515431 non-null  object \n",
      " 13  days_since_review                           515431 non-null  object \n",
      " 14  lat                                         512163 non-null  float64\n",
      " 15  lng                                         512163 non-null  float64\n",
      " 16  sample                                      515431 non-null  int64  \n",
      " 17  reviewer_score                              515431 non-null  float64\n",
      "dtypes: float64(4), int64(6), object(8)\n",
      "memory usage: 70.8+ MB\n"
     ]
    }
   ],
   "source": [
    "data.info()"
   ]
  },
  {
   "cell_type": "markdown",
   "id": "998a9742",
   "metadata": {},
   "source": [
    "### Преобразование признаков, связанных с временем"
   ]
  },
  {
   "cell_type": "markdown",
   "id": "debe9a7c",
   "metadata": {},
   "source": [
    "Преобразуем  признак ***days_since_review*** в числовой"
   ]
  },
  {
   "cell_type": "code",
   "execution_count": 242,
   "id": "13c1da2f",
   "metadata": {},
   "outputs": [
    {
     "data": {
      "text/plain": [
       "0     13\n",
       "1    234\n",
       "2    616\n",
       "3    656\n",
       "Name: days_since_review, dtype: int64"
      ]
     },
     "metadata": {},
     "output_type": "display_data"
    }
   ],
   "source": [
    "data['days_since_review'] = data['days_since_review'].apply(lambda day : int(day.split(' ')[0]))\n",
    "display(data['days_since_review'].head(4))"
   ]
  },
  {
   "cell_type": "markdown",
   "id": "b08fdb04",
   "metadata": {},
   "source": [
    "Преобразуем признак ***review_date*** в формат ***datetime***"
   ]
  },
  {
   "cell_type": "code",
   "execution_count": 243,
   "id": "90363713",
   "metadata": {},
   "outputs": [
    {
     "data": {
      "text/plain": [
       "0   2017-07-21\n",
       "1   2016-12-12\n",
       "2   2015-11-26\n",
       "3   2015-10-17\n",
       "Name: review_date, dtype: datetime64[ns]"
      ]
     },
     "metadata": {},
     "output_type": "display_data"
    }
   ],
   "source": [
    "data['review_date'] = pd.to_datetime(data['review_date'])\n",
    "display(data['review_date'].head(4))"
   ]
  },
  {
   "cell_type": "markdown",
   "id": "055ff8f2",
   "metadata": {},
   "source": [
    "#### Создадим признак ***review_year*** (год написания отзыва) из признака ***review_date***"
   ]
  },
  {
   "cell_type": "code",
   "execution_count": 244,
   "id": "69cfa65d",
   "metadata": {},
   "outputs": [],
   "source": [
    "data['review_year'] = data['review_date'].dt.year"
   ]
  },
  {
   "cell_type": "markdown",
   "id": "fd8ee029",
   "metadata": {},
   "source": [
    "#### Создадим признак ***is_weekend***, который показывает, оставлен ли отзыв в выходной день, из признака ***review_date***"
   ]
  },
  {
   "cell_type": "code",
   "execution_count": 245,
   "id": "c75a0e98",
   "metadata": {},
   "outputs": [],
   "source": [
    "data['is_weekend'] = data['review_date'].apply(lambda day: 1 if day.weekday()==5 or day.weekday() == 6 else 0)\n",
    "#display(data['is_weekend'])"
   ]
  },
  {
   "cell_type": "markdown",
   "id": "2c528752",
   "metadata": {},
   "source": [
    "#### Удалим исходный признак 'review_date'"
   ]
  },
  {
   "cell_type": "code",
   "execution_count": 246,
   "id": "5ae982b7",
   "metadata": {},
   "outputs": [],
   "source": [
    "data.drop('review_date', axis=1, inplace=True)"
   ]
  },
  {
   "cell_type": "markdown",
   "id": "1ef9f996",
   "metadata": {},
   "source": [
    "### Посчитаем пропуски в координатах отелей."
   ]
  },
  {
   "cell_type": "code",
   "execution_count": 247,
   "id": "bfca12a0",
   "metadata": {},
   "outputs": [
    {
     "data": {
      "text/plain": [
       "3268"
      ]
     },
     "metadata": {},
     "output_type": "display_data"
    }
   ],
   "source": [
    "empty_coords = data[(data['lat'].isna() == True) | (data['lng'].isna() == True)]\n",
    "display(empty_coords.shape[0])"
   ]
  },
  {
   "cell_type": "markdown",
   "id": "69e5f68b",
   "metadata": {},
   "source": [
    "3268 пропусков в координатах отелей. Проверим названия отелей, у которых нет координат."
   ]
  },
  {
   "cell_type": "code",
   "execution_count": 248,
   "id": "d5f50255",
   "metadata": {},
   "outputs": [
    {
     "data": {
      "text/plain": [
       "17"
      ]
     },
     "metadata": {},
     "output_type": "display_data"
    },
    {
     "data": {
      "text/plain": [
       "array(['Hotel Atlanta', 'City Hotel Deutschmeister',\n",
       "       'Holiday Inn Paris Montmartre',\n",
       "       'Fleming s Selection Hotel Wien City', 'Hotel City Central',\n",
       "       'Cordial Theaterhotel Wien', 'NH Collection Barcelona Podium',\n",
       "       'Hotel Daniel Vienna', 'Maison Albar Hotel Paris Op ra Diamond',\n",
       "       'Mercure Paris Gare Montparnasse',\n",
       "       'Hotel Pension Baron am Schottentor',\n",
       "       'Austria Trend Hotel Schloss Wilhelminenberg Wien',\n",
       "       'Renaissance Barcelona Hotel',\n",
       "       'Derag Livinghotel Kaiser Franz Joseph Vienna', 'Roomz Vienna',\n",
       "       'Hotel Park Villa', 'Hotel Advance'], dtype=object)"
      ]
     },
     "metadata": {},
     "output_type": "display_data"
    }
   ],
   "source": [
    "display(empty_coords['hotel_name'].unique().shape[0])\n",
    "display(empty_coords['hotel_name'].unique())"
   ]
  },
  {
   "cell_type": "markdown",
   "id": "f721bace",
   "metadata": {},
   "source": [
    "Добавим координаты этих отелей вручную из открытых источников."
   ]
  },
  {
   "cell_type": "code",
   "execution_count": 249,
   "id": "eeeb5029",
   "metadata": {},
   "outputs": [
    {
     "name": "stdout",
     "output_type": "stream",
     "text": [
      "<class 'pandas.core.frame.DataFrame'>\n",
      "RangeIndex: 515431 entries, 0 to 515430\n",
      "Data columns (total 19 columns):\n",
      " #   Column                                      Non-Null Count   Dtype  \n",
      "---  ------                                      --------------   -----  \n",
      " 0   hotel_address                               515431 non-null  object \n",
      " 1   additional_number_of_scoring                515431 non-null  int64  \n",
      " 2   average_score                               515431 non-null  float64\n",
      " 3   hotel_name                                  515431 non-null  object \n",
      " 4   reviewer_nationality                        515431 non-null  object \n",
      " 5   negative_review                             515431 non-null  object \n",
      " 6   review_total_negative_word_counts           515431 non-null  int64  \n",
      " 7   total_number_of_reviews                     515431 non-null  int64  \n",
      " 8   positive_review                             515431 non-null  object \n",
      " 9   review_total_positive_word_counts           515431 non-null  int64  \n",
      " 10  total_number_of_reviews_reviewer_has_given  515431 non-null  int64  \n",
      " 11  tags                                        515431 non-null  object \n",
      " 12  days_since_review                           515431 non-null  int64  \n",
      " 13  lat                                         515431 non-null  float64\n",
      " 14  lng                                         515431 non-null  float64\n",
      " 15  sample                                      515431 non-null  int64  \n",
      " 16  reviewer_score                              515431 non-null  float64\n",
      " 17  review_year                                 515431 non-null  int32  \n",
      " 18  is_weekend                                  515431 non-null  int64  \n",
      "dtypes: float64(4), int32(1), int64(8), object(6)\n",
      "memory usage: 72.8+ MB\n"
     ]
    },
    {
     "data": {
      "text/plain": [
       "None"
      ]
     },
     "metadata": {},
     "output_type": "display_data"
    }
   ],
   "source": [
    "fill_hotels_coords = pd.DataFrame({'hotel_name':['Austria Trend Hotel Schloss Wilhelminenberg Wien',\n",
    "'Holiday Inn Paris Montmartre', 'Fleming s Selection Hotel Wien City',\n",
    "'Hotel Atlanta', 'Maison Albar Hotel Paris Op ra Diamond',\n",
    "'Derag Livinghotel Kaiser Franz Joseph Vienna', 'Hotel City Central',\n",
    "'NH Collection Barcelona Podium', 'City Hotel Deutschmeister',\n",
    "'Hotel Daniel Vienna', 'Roomz Vienna', 'Hotel Pension Baron am Schottentor',\n",
    "'Mercure Paris Gare Montparnasse', 'Hotel Park Villa', 'Hotel Advance',\n",
    "'Renaissance Barcelona Hotel', 'Cordial Theaterhotel Wien'],\n",
    "                              \n",
    "'lat':[48.229047, 48.888945, 48.897508, 48.220819, 48.877885, \n",
    "       48.246288, 48.213632, 48.214636, 48.222147, 48.188816, \n",
    "       48.222970, 48.216753, 48.838038, 46.991676, 28.103670, 41.392437, 48.209565], \n",
    "\n",
    "'lng':[16.284445, 2.333260, 2.207706, 16.356070, 2.324035, 16.341359, \n",
    "       16.379934, 16.380054, 16.366343, 16.383355, 16.393311, 16.359726, \n",
    "       2.318824, 3.154911, 113.013415, 2.167519, 16.351598]})\n",
    "\n",
    "data['lat'] = data['lat'].fillna(data['hotel_name'].map(fill_hotels_coords.set_index('hotel_name')['lat']))\n",
    "data['lng'] = data['lng'].fillna(data['hotel_name'].map(fill_hotels_coords.set_index('hotel_name')['lng']))\n",
    "\n",
    "display(data.info())"
   ]
  },
  {
   "cell_type": "code",
   "execution_count": 250,
   "id": "197b26db",
   "metadata": {},
   "outputs": [],
   "source": [
    "# Тест\n",
    "#display(data[data['hotel_name'] == 'Austria Trend Hotel Schloss Wilhelminenberg Wien']['lng'])"
   ]
  },
  {
   "cell_type": "code",
   "execution_count": 251,
   "id": "fe753fa1",
   "metadata": {
    "execution": {
     "iopub.execute_input": "2025-05-02T09:06:09.328019Z",
     "iopub.status.busy": "2025-05-02T09:06:09.312912Z",
     "iopub.status.idle": "2025-05-02T09:06:10.162806Z",
     "shell.execute_reply": "2025-05-02T09:06:10.162322Z",
     "shell.execute_reply.started": "2025-05-02T08:55:15.357573Z"
    },
    "papermill": {
     "duration": 0.885868,
     "end_time": "2025-05-02T09:06:10.162949",
     "exception": false,
     "start_time": "2025-05-02T09:06:09.277081",
     "status": "completed"
    },
    "tags": []
   },
   "outputs": [
    {
     "data": {
      "text/plain": [
       "hotel_address                                   1493\n",
       "additional_number_of_scoring                     480\n",
       "average_score                                     34\n",
       "hotel_name                                      1492\n",
       "reviewer_nationality                             227\n",
       "negative_review                               330011\n",
       "review_total_negative_word_counts                402\n",
       "total_number_of_reviews                         1142\n",
       "positive_review                               412601\n",
       "review_total_positive_word_counts                365\n",
       "total_number_of_reviews_reviewer_has_given       198\n",
       "tags                                           55242\n",
       "days_since_review                                731\n",
       "lat                                             1489\n",
       "lng                                             1489\n",
       "sample                                             2\n",
       "reviewer_score                                    38\n",
       "review_year                                        3\n",
       "is_weekend                                         2\n",
       "dtype: int64"
      ]
     },
     "execution_count": 251,
     "metadata": {},
     "output_type": "execute_result"
    }
   ],
   "source": [
    "data.nunique(dropna=False)"
   ]
  },
  {
   "cell_type": "code",
   "execution_count": 252,
   "id": "b60603f2",
   "metadata": {
    "execution": {
     "iopub.execute_input": "2025-05-02T09:06:10.304866Z",
     "iopub.status.busy": "2025-05-02T09:06:10.304243Z",
     "iopub.status.idle": "2025-05-02T09:06:11.360336Z",
     "shell.execute_reply": "2025-05-02T09:06:11.360853Z",
     "shell.execute_reply.started": "2025-05-02T08:55:16.243978Z"
    },
    "papermill": {
     "duration": 1.174599,
     "end_time": "2025-05-02T09:06:11.361028",
     "exception": false,
     "start_time": "2025-05-02T09:06:10.186429",
     "status": "completed"
    },
    "tags": []
   },
   "outputs": [
    {
     "data": {
      "text/plain": [
       "<Axes: >"
      ]
     },
     "execution_count": 252,
     "metadata": {},
     "output_type": "execute_result"
    },
    {
     "data": {
      "image/png": "[encoded data removed]",
      "text/plain": [
       "<Figure size 1500x1000 with 2 Axes>"
      ]
     },
     "metadata": {},
     "output_type": "display_data"
    }
   ],
   "source": [
    "plt.rcParams['figure.figsize'] = (15,10)\n",
    "sns.heatmap(data.drop(['sample'], axis=1).corr(numeric_only=True), annot=True)\n",
    "# for Kaggle\n",
    "#sns.heatmap(data.drop(['sample'], axis=1).corr(), annot=True)"
   ]
  },
  {
   "cell_type": "code",
   "execution_count": 253,
   "id": "5417ecd3",
   "metadata": {
    "execution": {
     "iopub.execute_input": "2025-05-02T09:06:11.451371Z",
     "iopub.status.busy": "2025-05-02T09:06:11.450264Z",
     "iopub.status.idle": "2025-05-02T09:06:11.453002Z",
     "shell.execute_reply": "2025-05-02T09:06:11.452380Z",
     "shell.execute_reply.started": "2025-05-02T08:55:17.401663Z"
    },
    "papermill": {
     "duration": 0.065779,
     "end_time": "2025-05-02T09:06:11.453141",
     "exception": false,
     "start_time": "2025-05-02T09:06:11.387362",
     "status": "completed"
    },
    "tags": []
   },
   "outputs": [],
   "source": [
    "# убираем признаки которые еще не успели обработать, \n",
    "# модель на признаках с dtypes \"object\" обучаться не будет, просто выберим их и удалим\n",
    "object_columns = [s for s in data.columns if data[s].dtypes == 'object']\n",
    "data.drop(object_columns, axis = 1, inplace=True)"
   ]
  },
  {
   "cell_type": "code",
   "execution_count": 254,
   "id": "b11897b5",
   "metadata": {
    "execution": {
     "iopub.execute_input": "2025-05-02T09:06:11.512592Z",
     "iopub.status.busy": "2025-05-02T09:06:11.511969Z",
     "iopub.status.idle": "2025-05-02T09:06:11.528785Z",
     "shell.execute_reply": "2025-05-02T09:06:11.528147Z",
     "shell.execute_reply.started": "2025-05-02T08:55:17.441549Z"
    },
    "papermill": {
     "duration": 0.048007,
     "end_time": "2025-05-02T09:06:11.528926",
     "exception": false,
     "start_time": "2025-05-02T09:06:11.480919",
     "status": "completed"
    },
    "tags": []
   },
   "outputs": [
    {
     "name": "stdout",
     "output_type": "stream",
     "text": [
      "<class 'pandas.core.frame.DataFrame'>\n",
      "RangeIndex: 515431 entries, 0 to 515430\n",
      "Data columns (total 13 columns):\n",
      " #   Column                                      Non-Null Count   Dtype  \n",
      "---  ------                                      --------------   -----  \n",
      " 0   additional_number_of_scoring                515431 non-null  int64  \n",
      " 1   average_score                               515431 non-null  float64\n",
      " 2   review_total_negative_word_counts           515431 non-null  int64  \n",
      " 3   total_number_of_reviews                     515431 non-null  int64  \n",
      " 4   review_total_positive_word_counts           515431 non-null  int64  \n",
      " 5   total_number_of_reviews_reviewer_has_given  515431 non-null  int64  \n",
      " 6   days_since_review                           515431 non-null  int64  \n",
      " 7   lat                                         515431 non-null  float64\n",
      " 8   lng                                         515431 non-null  float64\n",
      " 9   sample                                      515431 non-null  int64  \n",
      " 10  reviewer_score                              515431 non-null  float64\n",
      " 11  review_year                                 515431 non-null  int32  \n",
      " 12  is_weekend                                  515431 non-null  int64  \n",
      "dtypes: float64(4), int32(1), int64(8)\n",
      "memory usage: 49.2 MB\n"
     ]
    }
   ],
   "source": [
    "data.info()"
   ]
  },
  {
   "cell_type": "code",
   "execution_count": 255,
   "id": "5d0287d9",
   "metadata": {
    "execution": {
     "iopub.execute_input": "2025-05-02T09:06:11.588717Z",
     "iopub.status.busy": "2025-05-02T09:06:11.587603Z",
     "iopub.status.idle": "2025-05-02T09:06:11.631521Z",
     "shell.execute_reply": "2025-05-02T09:06:11.630992Z",
     "shell.execute_reply.started": "2025-05-02T08:55:17.470441Z"
    },
    "papermill": {
     "duration": 0.076164,
     "end_time": "2025-05-02T09:06:11.631671",
     "exception": false,
     "start_time": "2025-05-02T09:06:11.555507",
     "status": "completed"
    },
    "tags": []
   },
   "outputs": [],
   "source": [
    "# Теперь выделим тестовую часть\n",
    "train_data = data.query('sample == 1').drop(['sample'], axis=1)\n",
    "test_data = data.query('sample == 0').drop(['sample'], axis=1)\n",
    "\n",
    "y = train_data.reviewer_score.values            # наш таргет\n",
    "X = train_data.drop(['reviewer_score'], axis=1)"
   ]
  },
  {
   "cell_type": "code",
   "execution_count": 256,
   "id": "50e83b14",
   "metadata": {
    "execution": {
     "iopub.execute_input": "2025-05-02T09:06:11.690779Z",
     "iopub.status.busy": "2025-05-02T09:06:11.689940Z",
     "iopub.status.idle": "2025-05-02T09:06:11.741563Z",
     "shell.execute_reply": "2025-05-02T09:06:11.740991Z",
     "shell.execute_reply.started": "2025-05-02T08:55:17.521961Z"
    },
    "papermill": {
     "duration": 0.083698,
     "end_time": "2025-05-02T09:06:11.741753",
     "exception": false,
     "start_time": "2025-05-02T09:06:11.658055",
     "status": "completed"
    },
    "tags": []
   },
   "outputs": [],
   "source": [
    "# Воспользуемся специальной функцие train_test_split для разбивки тестовых данных\n",
    "# выделим 20% данных на валидацию (параметр test_size)\n",
    "X_train, X_test, y_train, y_test = train_test_split(X, y, test_size=0.2, random_state=RANDOM_SEED)"
   ]
  },
  {
   "cell_type": "code",
   "execution_count": 257,
   "id": "49f705c0",
   "metadata": {
    "execution": {
     "iopub.execute_input": "2025-05-02T09:06:11.801145Z",
     "iopub.status.busy": "2025-05-02T09:06:11.798096Z",
     "iopub.status.idle": "2025-05-02T09:06:11.804027Z",
     "shell.execute_reply": "2025-05-02T09:06:11.804422Z",
     "shell.execute_reply.started": "2025-05-02T08:55:17.585279Z"
    },
    "papermill": {
     "duration": 0.036116,
     "end_time": "2025-05-02T09:06:11.804616",
     "exception": false,
     "start_time": "2025-05-02T09:06:11.768500",
     "status": "completed"
    },
    "tags": []
   },
   "outputs": [
    {
     "data": {
      "text/plain": [
       "((128935, 12), (386496, 12), (386496, 11), (309196, 11), (77300, 11))"
      ]
     },
     "execution_count": 257,
     "metadata": {},
     "output_type": "execute_result"
    }
   ],
   "source": [
    "# проверяем\n",
    "test_data.shape, train_data.shape, X.shape, X_train.shape, X_test.shape"
   ]
  },
  {
   "cell_type": "code",
   "execution_count": 258,
   "id": "3daab5ae",
   "metadata": {
    "execution": {
     "iopub.execute_input": "2025-05-02T09:06:11.864471Z",
     "iopub.status.busy": "2025-05-02T09:06:11.863863Z",
     "iopub.status.idle": "2025-05-02T09:06:12.123054Z",
     "shell.execute_reply": "2025-05-02T09:06:12.122514Z",
     "shell.execute_reply.started": "2025-05-02T08:55:17.593524Z"
    },
    "papermill": {
     "duration": 0.29079,
     "end_time": "2025-05-02T09:06:12.123200",
     "exception": false,
     "start_time": "2025-05-02T09:06:11.832410",
     "status": "completed"
    },
    "tags": []
   },
   "outputs": [],
   "source": [
    "# Импортируем необходимые библиотеки:\n",
    "from sklearn.ensemble import RandomForestRegressor # инструмент для создания и обучения модели\n",
    "from sklearn import metrics # инструменты для оценки точности модели"
   ]
  },
  {
   "cell_type": "code",
   "execution_count": 259,
   "id": "f6ca9a27",
   "metadata": {
    "execution": {
     "iopub.execute_input": "2025-05-02T09:06:12.181927Z",
     "iopub.status.busy": "2025-05-02T09:06:12.181168Z",
     "iopub.status.idle": "2025-05-02T09:06:12.183972Z",
     "shell.execute_reply": "2025-05-02T09:06:12.183369Z",
     "shell.execute_reply.started": "2025-05-02T08:55:17.818320Z"
    },
    "papermill": {
     "duration": 0.034114,
     "end_time": "2025-05-02T09:06:12.184104",
     "exception": false,
     "start_time": "2025-05-02T09:06:12.149990",
     "status": "completed"
    },
    "tags": []
   },
   "outputs": [],
   "source": [
    "# Создаём модель (НАСТРОЙКИ НЕ ТРОГАЕМ)\n",
    "model = RandomForestRegressor(n_estimators=100, verbose=1, n_jobs=-1, random_state=RANDOM_SEED)"
   ]
  },
  {
   "cell_type": "code",
   "execution_count": 260,
   "id": "0d2f56d6",
   "metadata": {
    "execution": {
     "iopub.execute_input": "2025-05-02T09:06:12.244790Z",
     "iopub.status.busy": "2025-05-02T09:06:12.244139Z",
     "iopub.status.idle": "2025-05-02T09:07:05.602964Z",
     "shell.execute_reply": "2025-05-02T09:07:05.603531Z",
     "shell.execute_reply.started": "2025-05-02T08:55:17.825395Z"
    },
    "papermill": {
     "duration": 53.392549,
     "end_time": "2025-05-02T09:07:05.603767",
     "exception": false,
     "start_time": "2025-05-02T09:06:12.211218",
     "status": "completed"
    },
    "tags": []
   },
   "outputs": [
    {
     "name": "stderr",
     "output_type": "stream",
     "text": [
      "[Parallel(n_jobs=-1)]: Using backend ThreadingBackend with 4 concurrent workers.\n",
      "[Parallel(n_jobs=-1)]: Done  42 tasks      | elapsed:   44.2s\n",
      "[Parallel(n_jobs=-1)]: Done 100 out of 100 | elapsed:  1.6min finished\n",
      "[Parallel(n_jobs=4)]: Using backend ThreadingBackend with 4 concurrent workers.\n",
      "[Parallel(n_jobs=4)]: Done  42 tasks      | elapsed:    0.7s\n",
      "[Parallel(n_jobs=4)]: Done 100 out of 100 | elapsed:    1.8s finished\n"
     ]
    }
   ],
   "source": [
    "# Обучаем модель на тестовом наборе данных\n",
    "model.fit(X_train, y_train)\n",
    "\n",
    "# Используем обученную модель для предсказания рейтинга ресторанов в тестовой выборке.\n",
    "# Предсказанные значения записываем в переменную y_pred\n",
    "y_pred = model.predict(X_test)"
   ]
  },
  {
   "cell_type": "code",
   "execution_count": 261,
   "id": "60e36293",
   "metadata": {
    "execution": {
     "iopub.execute_input": "2025-05-02T09:07:05.665573Z",
     "iopub.status.busy": "2025-05-02T09:07:05.665010Z",
     "iopub.status.idle": "2025-05-02T09:07:05.669056Z",
     "shell.execute_reply": "2025-05-02T09:07:05.669478Z",
     "shell.execute_reply.started": "2025-05-02T08:56:14.612609Z"
    },
    "papermill": {
     "duration": 0.037463,
     "end_time": "2025-05-02T09:07:05.669676",
     "exception": false,
     "start_time": "2025-05-02T09:07:05.632213",
     "status": "completed"
    },
    "tags": []
   },
   "outputs": [
    {
     "name": "stdout",
     "output_type": "stream",
     "text": [
      "MAPE: 0.9543366093451607\n"
     ]
    }
   ],
   "source": [
    "# Сравниваем предсказанные значения (y_pred) с реальными (y_test), и смотрим насколько они в среднем отличаются\n",
    "# Метрика называется Mean Absolute Error (MAE) и показывает среднее отклонение предсказанных значений от фактических.\n",
    "print('MAPE:', metrics.mean_absolute_error(y_test, y_pred))"
   ]
  },
  {
   "cell_type": "code",
   "execution_count": 262,
   "id": "420c40b5",
   "metadata": {
    "execution": {
     "iopub.execute_input": "2025-05-02T09:07:05.736702Z",
     "iopub.status.busy": "2025-05-02T09:07:05.735734Z",
     "iopub.status.idle": "2025-05-02T09:07:06.188116Z",
     "shell.execute_reply": "2025-05-02T09:07:06.188594Z",
     "shell.execute_reply.started": "2025-05-02T08:56:14.621315Z"
    },
    "papermill": {
     "duration": 0.488588,
     "end_time": "2025-05-02T09:07:06.188807",
     "exception": false,
     "start_time": "2025-05-02T09:07:05.700219",
     "status": "completed"
    },
    "tags": []
   },
   "outputs": [
    {
     "data": {
      "text/plain": [
       "<Axes: >"
      ]
     },
     "execution_count": 262,
     "metadata": {},
     "output_type": "execute_result"
    },
    {
     "data": {
      "image/png": "[encoded data removed]",
      "text/plain": [
       "<Figure size 1000x1000 with 1 Axes>"
      ]
     },
     "metadata": {},
     "output_type": "display_data"
    }
   ],
   "source": [
    "# в RandomForestRegressor есть возможность вывести самые важные признаки для модели\n",
    "plt.rcParams['figure.figsize'] = (10,10)\n",
    "feat_importances = pd.Series(model.feature_importances_, index=X.columns)\n",
    "feat_importances.nlargest(15).plot(kind='barh')"
   ]
  },
  {
   "cell_type": "code",
   "execution_count": 263,
   "id": "5df2b20b",
   "metadata": {
    "execution": {
     "iopub.execute_input": "2025-05-02T09:07:06.264059Z",
     "iopub.status.busy": "2025-05-02T09:07:06.263277Z",
     "iopub.status.idle": "2025-05-02T09:07:06.267366Z",
     "shell.execute_reply": "2025-05-02T09:07:06.266899Z",
     "shell.execute_reply.started": "2025-05-02T08:56:15.041258Z"
    },
    "papermill": {
     "duration": 0.049161,
     "end_time": "2025-05-02T09:07:06.267495",
     "exception": false,
     "start_time": "2025-05-02T09:07:06.218334",
     "status": "completed"
    },
    "tags": []
   },
   "outputs": [
    {
     "data": {
      "text/html": [
       "<div>\n",
       "<style scoped>\n",
       "    .dataframe tbody tr th:only-of-type {\n",
       "        vertical-align: middle;\n",
       "    }\n",
       "\n",
       "    .dataframe tbody tr th {\n",
       "        vertical-align: top;\n",
       "    }\n",
       "\n",
       "    .dataframe thead th {\n",
       "        text-align: right;\n",
       "    }\n",
       "</style>\n",
       "<table border=\"1\" class=\"dataframe\">\n",
       "  <thead>\n",
       "    <tr style=\"text-align: right;\">\n",
       "      <th></th>\n",
       "      <th>additional_number_of_scoring</th>\n",
       "      <th>average_score</th>\n",
       "      <th>review_total_negative_word_counts</th>\n",
       "      <th>total_number_of_reviews</th>\n",
       "      <th>review_total_positive_word_counts</th>\n",
       "      <th>total_number_of_reviews_reviewer_has_given</th>\n",
       "      <th>days_since_review</th>\n",
       "      <th>lat</th>\n",
       "      <th>lng</th>\n",
       "      <th>reviewer_score</th>\n",
       "      <th>review_year</th>\n",
       "      <th>is_weekend</th>\n",
       "    </tr>\n",
       "  </thead>\n",
       "  <tbody>\n",
       "    <tr>\n",
       "      <th>7707</th>\n",
       "      <td>401</td>\n",
       "      <td>8.1</td>\n",
       "      <td>23</td>\n",
       "      <td>1500</td>\n",
       "      <td>27</td>\n",
       "      <td>6</td>\n",
       "      <td>588</td>\n",
       "      <td>51.521012</td>\n",
       "      <td>-0.262862</td>\n",
       "      <td>0.0</td>\n",
       "      <td>2015</td>\n",
       "      <td>0</td>\n",
       "    </tr>\n",
       "    <tr>\n",
       "      <th>60695</th>\n",
       "      <td>1936</td>\n",
       "      <td>8.7</td>\n",
       "      <td>15</td>\n",
       "      <td>7491</td>\n",
       "      <td>0</td>\n",
       "      <td>1</td>\n",
       "      <td>136</td>\n",
       "      <td>51.510841</td>\n",
       "      <td>-0.078058</td>\n",
       "      <td>0.0</td>\n",
       "      <td>2017</td>\n",
       "      <td>0</td>\n",
       "    </tr>\n",
       "    <tr>\n",
       "      <th>90491</th>\n",
       "      <td>1190</td>\n",
       "      <td>7.5</td>\n",
       "      <td>3</td>\n",
       "      <td>5180</td>\n",
       "      <td>9</td>\n",
       "      <td>1</td>\n",
       "      <td>611</td>\n",
       "      <td>51.514879</td>\n",
       "      <td>-0.160650</td>\n",
       "      <td>0.0</td>\n",
       "      <td>2015</td>\n",
       "      <td>0</td>\n",
       "    </tr>\n",
       "    <tr>\n",
       "      <th>84352</th>\n",
       "      <td>119</td>\n",
       "      <td>8.3</td>\n",
       "      <td>32</td>\n",
       "      <td>974</td>\n",
       "      <td>26</td>\n",
       "      <td>4</td>\n",
       "      <td>564</td>\n",
       "      <td>52.361758</td>\n",
       "      <td>4.878005</td>\n",
       "      <td>0.0</td>\n",
       "      <td>2016</td>\n",
       "      <td>1</td>\n",
       "    </tr>\n",
       "    <tr>\n",
       "      <th>11118</th>\n",
       "      <td>1243</td>\n",
       "      <td>8.1</td>\n",
       "      <td>0</td>\n",
       "      <td>6608</td>\n",
       "      <td>15</td>\n",
       "      <td>17</td>\n",
       "      <td>292</td>\n",
       "      <td>51.513556</td>\n",
       "      <td>-0.180002</td>\n",
       "      <td>0.0</td>\n",
       "      <td>2016</td>\n",
       "      <td>1</td>\n",
       "    </tr>\n",
       "    <tr>\n",
       "      <th>124401</th>\n",
       "      <td>63</td>\n",
       "      <td>8.7</td>\n",
       "      <td>94</td>\n",
       "      <td>724</td>\n",
       "      <td>20</td>\n",
       "      <td>1</td>\n",
       "      <td>656</td>\n",
       "      <td>41.394403</td>\n",
       "      <td>2.150194</td>\n",
       "      <td>0.0</td>\n",
       "      <td>2015</td>\n",
       "      <td>1</td>\n",
       "    </tr>\n",
       "    <tr>\n",
       "      <th>109256</th>\n",
       "      <td>222</td>\n",
       "      <td>9.0</td>\n",
       "      <td>36</td>\n",
       "      <td>1209</td>\n",
       "      <td>11</td>\n",
       "      <td>5</td>\n",
       "      <td>338</td>\n",
       "      <td>51.493109</td>\n",
       "      <td>-0.190208</td>\n",
       "      <td>0.0</td>\n",
       "      <td>2016</td>\n",
       "      <td>0</td>\n",
       "    </tr>\n",
       "    <tr>\n",
       "      <th>76225</th>\n",
       "      <td>525</td>\n",
       "      <td>8.2</td>\n",
       "      <td>0</td>\n",
       "      <td>1842</td>\n",
       "      <td>10</td>\n",
       "      <td>67</td>\n",
       "      <td>382</td>\n",
       "      <td>51.481663</td>\n",
       "      <td>-0.190957</td>\n",
       "      <td>0.0</td>\n",
       "      <td>2016</td>\n",
       "      <td>1</td>\n",
       "    </tr>\n",
       "    <tr>\n",
       "      <th>116383</th>\n",
       "      <td>541</td>\n",
       "      <td>8.0</td>\n",
       "      <td>0</td>\n",
       "      <td>2367</td>\n",
       "      <td>30</td>\n",
       "      <td>1</td>\n",
       "      <td>709</td>\n",
       "      <td>51.492514</td>\n",
       "      <td>-0.178792</td>\n",
       "      <td>0.0</td>\n",
       "      <td>2015</td>\n",
       "      <td>0</td>\n",
       "    </tr>\n",
       "    <tr>\n",
       "      <th>110036</th>\n",
       "      <td>1831</td>\n",
       "      <td>8.1</td>\n",
       "      <td>31</td>\n",
       "      <td>7105</td>\n",
       "      <td>0</td>\n",
       "      <td>1</td>\n",
       "      <td>366</td>\n",
       "      <td>51.499046</td>\n",
       "      <td>-0.191707</td>\n",
       "      <td>0.0</td>\n",
       "      <td>2016</td>\n",
       "      <td>0</td>\n",
       "    </tr>\n",
       "  </tbody>\n",
       "</table>\n",
       "</div>"
      ],
      "text/plain": [
       "        additional_number_of_scoring  average_score  \\\n",
       "7707                             401            8.1   \n",
       "60695                           1936            8.7   \n",
       "90491                           1190            7.5   \n",
       "84352                            119            8.3   \n",
       "11118                           1243            8.1   \n",
       "124401                            63            8.7   \n",
       "109256                           222            9.0   \n",
       "76225                            525            8.2   \n",
       "116383                           541            8.0   \n",
       "110036                          1831            8.1   \n",
       "\n",
       "        review_total_negative_word_counts  total_number_of_reviews  \\\n",
       "7707                                   23                     1500   \n",
       "60695                                  15                     7491   \n",
       "90491                                   3                     5180   \n",
       "84352                                  32                      974   \n",
       "11118                                   0                     6608   \n",
       "124401                                 94                      724   \n",
       "109256                                 36                     1209   \n",
       "76225                                   0                     1842   \n",
       "116383                                  0                     2367   \n",
       "110036                                 31                     7105   \n",
       "\n",
       "        review_total_positive_word_counts  \\\n",
       "7707                                   27   \n",
       "60695                                   0   \n",
       "90491                                   9   \n",
       "84352                                  26   \n",
       "11118                                  15   \n",
       "124401                                 20   \n",
       "109256                                 11   \n",
       "76225                                  10   \n",
       "116383                                 30   \n",
       "110036                                  0   \n",
       "\n",
       "        total_number_of_reviews_reviewer_has_given  days_since_review  \\\n",
       "7707                                             6                588   \n",
       "60695                                            1                136   \n",
       "90491                                            1                611   \n",
       "84352                                            4                564   \n",
       "11118                                           17                292   \n",
       "124401                                           1                656   \n",
       "109256                                           5                338   \n",
       "76225                                           67                382   \n",
       "116383                                           1                709   \n",
       "110036                                           1                366   \n",
       "\n",
       "              lat       lng  reviewer_score  review_year  is_weekend  \n",
       "7707    51.521012 -0.262862             0.0         2015           0  \n",
       "60695   51.510841 -0.078058             0.0         2017           0  \n",
       "90491   51.514879 -0.160650             0.0         2015           0  \n",
       "84352   52.361758  4.878005             0.0         2016           1  \n",
       "11118   51.513556 -0.180002             0.0         2016           1  \n",
       "124401  41.394403  2.150194             0.0         2015           1  \n",
       "109256  51.493109 -0.190208             0.0         2016           0  \n",
       "76225   51.481663 -0.190957             0.0         2016           1  \n",
       "116383  51.492514 -0.178792             0.0         2015           0  \n",
       "110036  51.499046 -0.191707             0.0         2016           0  "
      ]
     },
     "execution_count": 263,
     "metadata": {},
     "output_type": "execute_result"
    }
   ],
   "source": [
    "test_data.sample(10)"
   ]
  },
  {
   "cell_type": "code",
   "execution_count": 264,
   "id": "bc3ecbc6",
   "metadata": {
    "execution": {
     "iopub.execute_input": "2025-05-02T09:07:06.334809Z",
     "iopub.status.busy": "2025-05-02T09:07:06.334156Z",
     "iopub.status.idle": "2025-05-02T09:07:06.337161Z",
     "shell.execute_reply": "2025-05-02T09:07:06.336659Z",
     "shell.execute_reply.started": "2025-05-02T08:56:15.061416Z"
    },
    "papermill": {
     "duration": 0.03942,
     "end_time": "2025-05-02T09:07:06.337293",
     "exception": false,
     "start_time": "2025-05-02T09:07:06.297873",
     "status": "completed"
    },
    "tags": []
   },
   "outputs": [],
   "source": [
    "test_data = test_data.drop(['reviewer_score'], axis=1)"
   ]
  },
  {
   "cell_type": "code",
   "execution_count": 265,
   "id": "3da632d4",
   "metadata": {
    "execution": {
     "iopub.execute_input": "2025-05-02T09:07:06.408931Z",
     "iopub.status.busy": "2025-05-02T09:07:06.408072Z",
     "iopub.status.idle": "2025-05-02T09:07:06.411113Z",
     "shell.execute_reply": "2025-05-02T09:07:06.411540Z",
     "shell.execute_reply.started": "2025-05-02T08:56:15.079263Z"
    },
    "papermill": {
     "duration": 0.043733,
     "end_time": "2025-05-02T09:07:06.411715",
     "exception": false,
     "start_time": "2025-05-02T09:07:06.367982",
     "status": "completed"
    },
    "tags": []
   },
   "outputs": [
    {
     "data": {
      "text/html": [
       "<div>\n",
       "<style scoped>\n",
       "    .dataframe tbody tr th:only-of-type {\n",
       "        vertical-align: middle;\n",
       "    }\n",
       "\n",
       "    .dataframe tbody tr th {\n",
       "        vertical-align: top;\n",
       "    }\n",
       "\n",
       "    .dataframe thead th {\n",
       "        text-align: right;\n",
       "    }\n",
       "</style>\n",
       "<table border=\"1\" class=\"dataframe\">\n",
       "  <thead>\n",
       "    <tr style=\"text-align: right;\">\n",
       "      <th></th>\n",
       "      <th>reviewer_score</th>\n",
       "      <th>id</th>\n",
       "    </tr>\n",
       "  </thead>\n",
       "  <tbody>\n",
       "    <tr>\n",
       "      <th>0</th>\n",
       "      <td>8.833</td>\n",
       "      <td>488440</td>\n",
       "    </tr>\n",
       "    <tr>\n",
       "      <th>1</th>\n",
       "      <td>7.392</td>\n",
       "      <td>274649</td>\n",
       "    </tr>\n",
       "    <tr>\n",
       "      <th>2</th>\n",
       "      <td>8.412</td>\n",
       "      <td>374688</td>\n",
       "    </tr>\n",
       "    <tr>\n",
       "      <th>3</th>\n",
       "      <td>9.459</td>\n",
       "      <td>404352</td>\n",
       "    </tr>\n",
       "    <tr>\n",
       "      <th>4</th>\n",
       "      <td>9.653</td>\n",
       "      <td>451596</td>\n",
       "    </tr>\n",
       "    <tr>\n",
       "      <th>...</th>\n",
       "      <td>...</td>\n",
       "      <td>...</td>\n",
       "    </tr>\n",
       "    <tr>\n",
       "      <th>128930</th>\n",
       "      <td>8.832</td>\n",
       "      <td>495812</td>\n",
       "    </tr>\n",
       "    <tr>\n",
       "      <th>128931</th>\n",
       "      <td>8.541</td>\n",
       "      <td>315577</td>\n",
       "    </tr>\n",
       "    <tr>\n",
       "      <th>128932</th>\n",
       "      <td>7.947</td>\n",
       "      <td>511968</td>\n",
       "    </tr>\n",
       "    <tr>\n",
       "      <th>128933</th>\n",
       "      <td>9.725</td>\n",
       "      <td>303386</td>\n",
       "    </tr>\n",
       "    <tr>\n",
       "      <th>128934</th>\n",
       "      <td>7.212</td>\n",
       "      <td>103157</td>\n",
       "    </tr>\n",
       "  </tbody>\n",
       "</table>\n",
       "<p>128935 rows × 2 columns</p>\n",
       "</div>"
      ],
      "text/plain": [
       "        reviewer_score      id\n",
       "0                8.833  488440\n",
       "1                7.392  274649\n",
       "2                8.412  374688\n",
       "3                9.459  404352\n",
       "4                9.653  451596\n",
       "...                ...     ...\n",
       "128930           8.832  495812\n",
       "128931           8.541  315577\n",
       "128932           7.947  511968\n",
       "128933           9.725  303386\n",
       "128934           7.212  103157\n",
       "\n",
       "[128935 rows x 2 columns]"
      ]
     },
     "execution_count": 265,
     "metadata": {},
     "output_type": "execute_result"
    }
   ],
   "source": [
    "sample_submission"
   ]
  },
  {
   "cell_type": "code",
   "execution_count": 266,
   "id": "7e917f0e",
   "metadata": {
    "execution": {
     "iopub.execute_input": "2025-05-02T09:07:06.477614Z",
     "iopub.status.busy": "2025-05-02T09:07:06.474599Z",
     "iopub.status.idle": "2025-05-02T09:07:09.003576Z",
     "shell.execute_reply": "2025-05-02T09:07:09.004263Z",
     "shell.execute_reply.started": "2025-05-02T08:56:15.100924Z"
    },
    "papermill": {
     "duration": 2.562585,
     "end_time": "2025-05-02T09:07:09.004439",
     "exception": false,
     "start_time": "2025-05-02T09:07:06.441854",
     "status": "completed"
    },
    "tags": []
   },
   "outputs": [
    {
     "name": "stderr",
     "output_type": "stream",
     "text": [
      "[Parallel(n_jobs=4)]: Using backend ThreadingBackend with 4 concurrent workers.\n",
      "[Parallel(n_jobs=4)]: Done  42 tasks      | elapsed:    1.3s\n",
      "[Parallel(n_jobs=4)]: Done 100 out of 100 | elapsed:    3.1s finished\n"
     ]
    }
   ],
   "source": [
    "predict_submission = model.predict(test_data)"
   ]
  },
  {
   "cell_type": "code",
   "execution_count": 267,
   "id": "a0155f72",
   "metadata": {
    "execution": {
     "iopub.execute_input": "2025-05-02T09:07:09.074528Z",
     "iopub.status.busy": "2025-05-02T09:07:09.073821Z",
     "iopub.status.idle": "2025-05-02T09:07:09.076824Z",
     "shell.execute_reply": "2025-05-02T09:07:09.077259Z",
     "shell.execute_reply.started": "2025-05-02T08:56:17.733874Z"
    },
    "papermill": {
     "duration": 0.041111,
     "end_time": "2025-05-02T09:07:09.077413",
     "exception": false,
     "start_time": "2025-05-02T09:07:09.036302",
     "status": "completed"
    },
    "tags": []
   },
   "outputs": [
    {
     "data": {
      "text/plain": [
       "array([8.823, 7.407, 8.193, ..., 8.303, 9.776, 6.852], shape=(128935,))"
      ]
     },
     "execution_count": 267,
     "metadata": {},
     "output_type": "execute_result"
    }
   ],
   "source": [
    "predict_submission"
   ]
  },
  {
   "cell_type": "code",
   "execution_count": 268,
   "id": "a64ede9f",
   "metadata": {
    "execution": {
     "iopub.execute_input": "2025-05-02T09:07:09.145099Z",
     "iopub.status.busy": "2025-05-02T09:07:09.144282Z",
     "iopub.status.idle": "2025-05-02T09:07:09.147300Z",
     "shell.execute_reply": "2025-05-02T09:07:09.147752Z",
     "shell.execute_reply.started": "2025-05-02T08:56:17.743130Z"
    },
    "papermill": {
     "duration": 0.039459,
     "end_time": "2025-05-02T09:07:09.147910",
     "exception": false,
     "start_time": "2025-05-02T09:07:09.108451",
     "status": "completed"
    },
    "tags": []
   },
   "outputs": [
    {
     "data": {
      "text/plain": [
       "['reviewer_score', 'id']"
      ]
     },
     "execution_count": 268,
     "metadata": {},
     "output_type": "execute_result"
    }
   ],
   "source": [
    "list(sample_submission)"
   ]
  },
  {
   "cell_type": "code",
   "execution_count": 269,
   "id": "b99715e0",
   "metadata": {
    "execution": {
     "iopub.execute_input": "2025-05-02T09:07:09.215354Z",
     "iopub.status.busy": "2025-05-02T09:07:09.214771Z",
     "iopub.status.idle": "2025-05-02T09:07:09.514524Z",
     "shell.execute_reply": "2025-05-02T09:07:09.514047Z",
     "shell.execute_reply.started": "2025-05-02T08:56:17.762191Z"
    },
    "papermill": {
     "duration": 0.335514,
     "end_time": "2025-05-02T09:07:09.514683",
     "exception": false,
     "start_time": "2025-05-02T09:07:09.179169",
     "status": "completed"
    },
    "tags": []
   },
   "outputs": [
    {
     "data": {
      "text/html": [
       "<div>\n",
       "<style scoped>\n",
       "    .dataframe tbody tr th:only-of-type {\n",
       "        vertical-align: middle;\n",
       "    }\n",
       "\n",
       "    .dataframe tbody tr th {\n",
       "        vertical-align: top;\n",
       "    }\n",
       "\n",
       "    .dataframe thead th {\n",
       "        text-align: right;\n",
       "    }\n",
       "</style>\n",
       "<table border=\"1\" class=\"dataframe\">\n",
       "  <thead>\n",
       "    <tr style=\"text-align: right;\">\n",
       "      <th></th>\n",
       "      <th>reviewer_score</th>\n",
       "      <th>id</th>\n",
       "    </tr>\n",
       "  </thead>\n",
       "  <tbody>\n",
       "    <tr>\n",
       "      <th>0</th>\n",
       "      <td>8.823</td>\n",
       "      <td>488440</td>\n",
       "    </tr>\n",
       "    <tr>\n",
       "      <th>1</th>\n",
       "      <td>7.407</td>\n",
       "      <td>274649</td>\n",
       "    </tr>\n",
       "    <tr>\n",
       "      <th>2</th>\n",
       "      <td>8.193</td>\n",
       "      <td>374688</td>\n",
       "    </tr>\n",
       "    <tr>\n",
       "      <th>3</th>\n",
       "      <td>9.307</td>\n",
       "      <td>404352</td>\n",
       "    </tr>\n",
       "    <tr>\n",
       "      <th>4</th>\n",
       "      <td>9.704</td>\n",
       "      <td>451596</td>\n",
       "    </tr>\n",
       "    <tr>\n",
       "      <th>5</th>\n",
       "      <td>8.451</td>\n",
       "      <td>302161</td>\n",
       "    </tr>\n",
       "    <tr>\n",
       "      <th>6</th>\n",
       "      <td>8.173</td>\n",
       "      <td>317079</td>\n",
       "    </tr>\n",
       "    <tr>\n",
       "      <th>7</th>\n",
       "      <td>7.887</td>\n",
       "      <td>13963</td>\n",
       "    </tr>\n",
       "    <tr>\n",
       "      <th>8</th>\n",
       "      <td>8.860</td>\n",
       "      <td>159785</td>\n",
       "    </tr>\n",
       "    <tr>\n",
       "      <th>9</th>\n",
       "      <td>8.097</td>\n",
       "      <td>195089</td>\n",
       "    </tr>\n",
       "  </tbody>\n",
       "</table>\n",
       "</div>"
      ],
      "text/plain": [
       "   reviewer_score      id\n",
       "0           8.823  488440\n",
       "1           7.407  274649\n",
       "2           8.193  374688\n",
       "3           9.307  404352\n",
       "4           9.704  451596\n",
       "5           8.451  302161\n",
       "6           8.173  317079\n",
       "7           7.887   13963\n",
       "8           8.860  159785\n",
       "9           8.097  195089"
      ]
     },
     "execution_count": 269,
     "metadata": {},
     "output_type": "execute_result"
    }
   ],
   "source": [
    "sample_submission['reviewer_score'] = predict_submission\n",
    "sample_submission.to_csv('data/submission.csv', index=False)\n",
    "# for Kaggle\n",
    "#sample_submission.to_csv('submission.csv', index=False)\n",
    "sample_submission.head(10)"
   ]
  },
  {
   "cell_type": "code",
   "execution_count": null,
   "id": "2ad65154",
   "metadata": {
    "papermill": {
     "duration": 0.031453,
     "end_time": "2025-05-02T09:07:09.578798",
     "exception": false,
     "start_time": "2025-05-02T09:07:09.547345",
     "status": "completed"
    },
    "tags": []
   },
   "outputs": [],
   "source": []
  },
  {
   "cell_type": "code",
   "execution_count": null,
   "id": "4aa869e7",
   "metadata": {
    "papermill": {
     "duration": 0.032394,
     "end_time": "2025-05-02T09:07:09.643276",
     "exception": false,
     "start_time": "2025-05-02T09:07:09.610882",
     "status": "completed"
    },
    "tags": []
   },
   "outputs": [],
   "source": []
  },
  {
   "cell_type": "code",
   "execution_count": null,
   "id": "9283e6e7",
   "metadata": {
    "papermill": {
     "duration": 0.035134,
     "end_time": "2025-05-02T09:07:09.710360",
     "exception": false,
     "start_time": "2025-05-02T09:07:09.675226",
     "status": "completed"
    },
    "tags": []
   },
   "outputs": [],
   "source": []
  }
 ],
 "metadata": {
  "kaggle": {
   "accelerator": "none",
   "dataSources": [
    {
     "databundleVersionId": 3207826,
     "sourceId": 34288,
     "sourceType": "competition"
    }
   ],
   "dockerImageVersionId": 30157,
   "isGpuEnabled": false,
   "isInternetEnabled": false,
   "language": "python",
   "sourceType": "notebook"
  },
  "kernelspec": {
   "display_name": "Python 3",
   "language": "python",
   "name": "python3"
  },
  "language_info": {
   "codemirror_mode": {
    "name": "ipython",
    "version": 3
   },
   "file_extension": ".py",
   "mimetype": "text/x-python",
   "name": "python",
   "nbconvert_exporter": "python",
   "pygments_lexer": "ipython3",
   "version": "3.12.10"
  },
  "papermill": {
   "default_parameters": {},
   "duration": 86.985489,
   "end_time": "2025-05-02T09:07:10.854574",
   "environment_variables": {},
   "exception": null,
   "input_path": "__notebook__.ipynb",
   "output_path": "__notebook__.ipynb",
   "parameters": {},
   "start_time": "2025-05-02T09:05:43.869085",
   "version": "2.3.3"
  }
 },
 "nbformat": 4,
 "nbformat_minor": 5
}
