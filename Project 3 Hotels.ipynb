{
 "cells": [
  {
   "cell_type": "code",
   "execution_count": 38,
   "id": "5df4140b",
   "metadata": {
    "_cell_guid": "b1076dfc-b9ad-4769-8c92-a6c4dae69d19",
    "_uuid": "8f2839f25d086af736a60e9eeb907d3b93b6e0e5",
    "execution": {
     "iopub.execute_input": "2025-05-02T09:05:53.961375Z",
     "iopub.status.busy": "2025-05-02T09:05:53.960241Z",
     "iopub.status.idle": "2025-05-02T09:05:55.445710Z",
     "shell.execute_reply": "2025-05-02T09:05:55.445055Z",
     "shell.execute_reply.started": "2025-05-02T08:55:00.996462Z"
    },
    "papermill": {
     "duration": 1.524192,
     "end_time": "2025-05-02T09:05:55.445864",
     "exception": false,
     "start_time": "2025-05-02T09:05:53.921672",
     "status": "completed"
    },
    "tags": []
   },
   "outputs": [
    {
     "name": "stdout",
     "output_type": "stream",
     "text": [
      "data/hotels_test.csv\n",
      "data/hotels_train.csv\n",
      "data/submission.csv\n"
     ]
    }
   ],
   "source": [
    "# This Python 3 environment comes with many helpful analytics libraries installed\n",
    "# It is defined by the kaggle/python Docker image: https://github.com/kaggle/docker-python\n",
    "# For example, here's several helpful packages to load\n",
    "\n",
    "import numpy as np # linear algebra\n",
    "import pandas as pd # data processing, CSV file I/O (e.g. pd.read_csv)\n",
    "\n",
    "# импортируем библиотеки для визуализации\n",
    "import matplotlib.pyplot as plt\n",
    "import seaborn as sns \n",
    "%matplotlib inline\n",
    "\n",
    "# Загружаем специальный удобный инструмент для разделения датасета:\n",
    "from sklearn.model_selection import train_test_split\n",
    "\n",
    "from geopy.distance import great_circle  # Расчёт расстояний на основе координат\n",
    "\n",
    "# Input data files are available in the read-only \"../input/\" directory\n",
    "# For example, running this (by clicking run or pressing Shift+Enter) will list all files under the input directory\n",
    "\n",
    "import os\n",
    "#for dirname, _, filenames in os.walk('/kaggle/input'):\n",
    "for dirname, _, filenames in os.walk('data/'):\n",
    "    for filename in filenames:\n",
    "        print(os.path.join(dirname, filename))\n",
    "\n",
    "# You can write up to 20GB to the current directory (/kaggle/working/) that gets preserved as output when you create a version using \"Save & Run All\" \n",
    "# You can also write temporary files to /kaggle/temp/, but they won't be saved outside of the current session"
   ]
  },
  {
   "cell_type": "code",
   "execution_count": 39,
   "id": "b8575e58",
   "metadata": {
    "execution": {
     "iopub.execute_input": "2025-05-02T09:05:55.494509Z",
     "iopub.status.busy": "2025-05-02T09:05:55.493873Z",
     "iopub.status.idle": "2025-05-02T09:05:55.497089Z",
     "shell.execute_reply": "2025-05-02T09:05:55.496427Z",
     "shell.execute_reply.started": "2025-05-02T08:55:02.451865Z"
    },
    "papermill": {
     "duration": 0.029318,
     "end_time": "2025-05-02T09:05:55.497229",
     "exception": false,
     "start_time": "2025-05-02T09:05:55.467911",
     "status": "completed"
    },
    "tags": []
   },
   "outputs": [],
   "source": [
    "# всегда фиксируйте RANDOM_SEED, чтобы ваши эксперименты были воспроизводимы!\n",
    "RANDOM_SEED = 42"
   ]
  },
  {
   "cell_type": "code",
   "execution_count": 40,
   "id": "3fc4b02c",
   "metadata": {
    "execution": {
     "iopub.execute_input": "2025-05-02T09:05:55.547185Z",
     "iopub.status.busy": "2025-05-02T09:05:55.545997Z",
     "iopub.status.idle": "2025-05-02T09:06:01.184202Z",
     "shell.execute_reply": "2025-05-02T09:06:01.183562Z",
     "shell.execute_reply.started": "2025-05-02T08:55:02.458477Z"
    },
    "papermill": {
     "duration": 5.665767,
     "end_time": "2025-05-02T09:06:01.184335",
     "exception": false,
     "start_time": "2025-05-02T09:05:55.518568",
     "status": "completed"
    },
    "tags": []
   },
   "outputs": [],
   "source": [
    "# зафиксируем версию пакетов, чтобы эксперименты были воспроизводимы:\n",
    "!pip freeze > requirements.txt"
   ]
  },
  {
   "cell_type": "code",
   "execution_count": 41,
   "id": "3f49903e",
   "metadata": {
    "execution": {
     "iopub.execute_input": "2025-05-02T09:06:01.234021Z",
     "iopub.status.busy": "2025-05-02T09:06:01.233186Z",
     "iopub.status.idle": "2025-05-02T09:06:07.616359Z",
     "shell.execute_reply": "2025-05-02T09:06:07.615858Z",
     "shell.execute_reply.started": "2025-05-02T08:55:07.963313Z"
    },
    "papermill": {
     "duration": 6.411246,
     "end_time": "2025-05-02T09:06:07.616507",
     "exception": false,
     "start_time": "2025-05-02T09:06:01.205261",
     "status": "completed"
    },
    "tags": []
   },
   "outputs": [],
   "source": [
    "# Подгрузим наши данные из соревнования\n",
    "\n",
    "#DATA_DIR = '/kaggle/input/sf-booking/'\n",
    "DATA_DIR = 'data/'\n",
    "df_train = pd.read_csv(DATA_DIR+'/hotels_train.csv') # датасет для обучения\n",
    "df_test = pd.read_csv(DATA_DIR+'hotels_test.csv') # датасет для предсказания\n",
    "sample_submission = pd.read_csv(DATA_DIR+'/submission.csv') # самбмишн"
   ]
  },
  {
   "cell_type": "code",
   "execution_count": 42,
   "id": "e437394e",
   "metadata": {
    "execution": {
     "iopub.execute_input": "2025-05-02T09:06:07.668913Z",
     "iopub.status.busy": "2025-05-02T09:06:07.667607Z",
     "iopub.status.idle": "2025-05-02T09:06:07.869292Z",
     "shell.execute_reply": "2025-05-02T09:06:07.868723Z",
     "shell.execute_reply.started": "2025-05-02T08:55:14.120297Z"
    },
    "papermill": {
     "duration": 0.231183,
     "end_time": "2025-05-02T09:06:07.869425",
     "exception": false,
     "start_time": "2025-05-02T09:06:07.638242",
     "status": "completed"
    },
    "tags": []
   },
   "outputs": [
    {
     "name": "stdout",
     "output_type": "stream",
     "text": [
      "<class 'pandas.core.frame.DataFrame'>\n",
      "RangeIndex: 386803 entries, 0 to 386802\n",
      "Data columns (total 17 columns):\n",
      " #   Column                                      Non-Null Count   Dtype  \n",
      "---  ------                                      --------------   -----  \n",
      " 0   hotel_address                               386803 non-null  object \n",
      " 1   additional_number_of_scoring                386803 non-null  int64  \n",
      " 2   review_date                                 386803 non-null  object \n",
      " 3   average_score                               386803 non-null  float64\n",
      " 4   hotel_name                                  386803 non-null  object \n",
      " 5   reviewer_nationality                        386803 non-null  object \n",
      " 6   negative_review                             386803 non-null  object \n",
      " 7   review_total_negative_word_counts           386803 non-null  int64  \n",
      " 8   total_number_of_reviews                     386803 non-null  int64  \n",
      " 9   positive_review                             386803 non-null  object \n",
      " 10  review_total_positive_word_counts           386803 non-null  int64  \n",
      " 11  total_number_of_reviews_reviewer_has_given  386803 non-null  int64  \n",
      " 12  reviewer_score                              386803 non-null  float64\n",
      " 13  tags                                        386803 non-null  object \n",
      " 14  days_since_review                           386803 non-null  object \n",
      " 15  lat                                         384355 non-null  float64\n",
      " 16  lng                                         384355 non-null  float64\n",
      "dtypes: float64(4), int64(5), object(8)\n",
      "memory usage: 50.2+ MB\n"
     ]
    }
   ],
   "source": [
    "df_train.info()"
   ]
  },
  {
   "cell_type": "code",
   "execution_count": 43,
   "id": "f35eb886",
   "metadata": {
    "execution": {
     "iopub.execute_input": "2025-05-02T09:06:07.919211Z",
     "iopub.status.busy": "2025-05-02T09:06:07.918538Z",
     "iopub.status.idle": "2025-05-02T09:06:07.938962Z",
     "shell.execute_reply": "2025-05-02T09:06:07.939397Z",
     "shell.execute_reply.started": "2025-05-02T08:55:14.335258Z"
    },
    "papermill": {
     "duration": 0.048937,
     "end_time": "2025-05-02T09:06:07.939554",
     "exception": false,
     "start_time": "2025-05-02T09:06:07.890617",
     "status": "completed"
    },
    "tags": []
   },
   "outputs": [
    {
     "data": {
      "text/html": [
       "<div>\n",
       "<style scoped>\n",
       "    .dataframe tbody tr th:only-of-type {\n",
       "        vertical-align: middle;\n",
       "    }\n",
       "\n",
       "    .dataframe tbody tr th {\n",
       "        vertical-align: top;\n",
       "    }\n",
       "\n",
       "    .dataframe thead th {\n",
       "        text-align: right;\n",
       "    }\n",
       "</style>\n",
       "<table border=\"1\" class=\"dataframe\">\n",
       "  <thead>\n",
       "    <tr style=\"text-align: right;\">\n",
       "      <th></th>\n",
       "      <th>hotel_address</th>\n",
       "      <th>additional_number_of_scoring</th>\n",
       "      <th>review_date</th>\n",
       "      <th>average_score</th>\n",
       "      <th>hotel_name</th>\n",
       "      <th>reviewer_nationality</th>\n",
       "      <th>negative_review</th>\n",
       "      <th>review_total_negative_word_counts</th>\n",
       "      <th>total_number_of_reviews</th>\n",
       "      <th>positive_review</th>\n",
       "      <th>review_total_positive_word_counts</th>\n",
       "      <th>total_number_of_reviews_reviewer_has_given</th>\n",
       "      <th>reviewer_score</th>\n",
       "      <th>tags</th>\n",
       "      <th>days_since_review</th>\n",
       "      <th>lat</th>\n",
       "      <th>lng</th>\n",
       "    </tr>\n",
       "  </thead>\n",
       "  <tbody>\n",
       "    <tr>\n",
       "      <th>0</th>\n",
       "      <td>Stratton Street Mayfair Westminster Borough Lo...</td>\n",
       "      <td>581</td>\n",
       "      <td>2/19/2016</td>\n",
       "      <td>8.4</td>\n",
       "      <td>The May Fair Hotel</td>\n",
       "      <td>United Kingdom</td>\n",
       "      <td>Leaving</td>\n",
       "      <td>3</td>\n",
       "      <td>1994</td>\n",
       "      <td>Staff were amazing</td>\n",
       "      <td>4</td>\n",
       "      <td>7</td>\n",
       "      <td>10.0</td>\n",
       "      <td>[' Leisure trip ', ' Couple ', ' Studio Suite ...</td>\n",
       "      <td>531 day</td>\n",
       "      <td>51.507894</td>\n",
       "      <td>-0.143671</td>\n",
       "    </tr>\n",
       "    <tr>\n",
       "      <th>1</th>\n",
       "      <td>130 134 Southampton Row Camden London WC1B 5AF...</td>\n",
       "      <td>299</td>\n",
       "      <td>1/12/2017</td>\n",
       "      <td>8.3</td>\n",
       "      <td>Mercure London Bloomsbury Hotel</td>\n",
       "      <td>United Kingdom</td>\n",
       "      <td>poor breakfast</td>\n",
       "      <td>3</td>\n",
       "      <td>1361</td>\n",
       "      <td>location</td>\n",
       "      <td>2</td>\n",
       "      <td>14</td>\n",
       "      <td>6.3</td>\n",
       "      <td>[' Business trip ', ' Couple ', ' Standard Dou...</td>\n",
       "      <td>203 day</td>\n",
       "      <td>51.521009</td>\n",
       "      <td>-0.123097</td>\n",
       "    </tr>\n",
       "  </tbody>\n",
       "</table>\n",
       "</div>"
      ],
      "text/plain": [
       "                                       hotel_address  \\\n",
       "0  Stratton Street Mayfair Westminster Borough Lo...   \n",
       "1  130 134 Southampton Row Camden London WC1B 5AF...   \n",
       "\n",
       "   additional_number_of_scoring review_date  average_score  \\\n",
       "0                           581   2/19/2016            8.4   \n",
       "1                           299   1/12/2017            8.3   \n",
       "\n",
       "                        hotel_name reviewer_nationality  negative_review  \\\n",
       "0               The May Fair Hotel      United Kingdom          Leaving    \n",
       "1  Mercure London Bloomsbury Hotel      United Kingdom    poor breakfast   \n",
       "\n",
       "   review_total_negative_word_counts  total_number_of_reviews  \\\n",
       "0                                  3                     1994   \n",
       "1                                  3                     1361   \n",
       "\n",
       "       positive_review  review_total_positive_word_counts  \\\n",
       "0   Staff were amazing                                  4   \n",
       "1             location                                  2   \n",
       "\n",
       "   total_number_of_reviews_reviewer_has_given  reviewer_score  \\\n",
       "0                                           7            10.0   \n",
       "1                                          14             6.3   \n",
       "\n",
       "                                                tags days_since_review  \\\n",
       "0  [' Leisure trip ', ' Couple ', ' Studio Suite ...           531 day   \n",
       "1  [' Business trip ', ' Couple ', ' Standard Dou...           203 day   \n",
       "\n",
       "         lat       lng  \n",
       "0  51.507894 -0.143671  \n",
       "1  51.521009 -0.123097  "
      ]
     },
     "execution_count": 43,
     "metadata": {},
     "output_type": "execute_result"
    }
   ],
   "source": [
    "df_train.head(2)"
   ]
  },
  {
   "cell_type": "code",
   "execution_count": 44,
   "id": "cb2aa9de",
   "metadata": {
    "execution": {
     "iopub.execute_input": "2025-05-02T09:06:07.989679Z",
     "iopub.status.busy": "2025-05-02T09:06:07.989073Z",
     "iopub.status.idle": "2025-05-02T09:06:08.060117Z",
     "shell.execute_reply": "2025-05-02T09:06:08.059450Z",
     "shell.execute_reply.started": "2025-05-02T08:55:14.367126Z"
    },
    "papermill": {
     "duration": 0.097468,
     "end_time": "2025-05-02T09:06:08.060257",
     "exception": false,
     "start_time": "2025-05-02T09:06:07.962789",
     "status": "completed"
    },
    "tags": []
   },
   "outputs": [
    {
     "name": "stdout",
     "output_type": "stream",
     "text": [
      "<class 'pandas.core.frame.DataFrame'>\n",
      "RangeIndex: 128935 entries, 0 to 128934\n",
      "Data columns (total 16 columns):\n",
      " #   Column                                      Non-Null Count   Dtype  \n",
      "---  ------                                      --------------   -----  \n",
      " 0   hotel_address                               128935 non-null  object \n",
      " 1   additional_number_of_scoring                128935 non-null  int64  \n",
      " 2   review_date                                 128935 non-null  object \n",
      " 3   average_score                               128935 non-null  float64\n",
      " 4   hotel_name                                  128935 non-null  object \n",
      " 5   reviewer_nationality                        128935 non-null  object \n",
      " 6   negative_review                             128935 non-null  object \n",
      " 7   review_total_negative_word_counts           128935 non-null  int64  \n",
      " 8   total_number_of_reviews                     128935 non-null  int64  \n",
      " 9   positive_review                             128935 non-null  object \n",
      " 10  review_total_positive_word_counts           128935 non-null  int64  \n",
      " 11  total_number_of_reviews_reviewer_has_given  128935 non-null  int64  \n",
      " 12  tags                                        128935 non-null  object \n",
      " 13  days_since_review                           128935 non-null  object \n",
      " 14  lat                                         128115 non-null  float64\n",
      " 15  lng                                         128115 non-null  float64\n",
      "dtypes: float64(3), int64(5), object(8)\n",
      "memory usage: 15.7+ MB\n"
     ]
    }
   ],
   "source": [
    "df_test.info()"
   ]
  },
  {
   "cell_type": "code",
   "execution_count": 53,
   "id": "51ca8dab",
   "metadata": {
    "execution": {
     "iopub.execute_input": "2025-05-02T09:06:08.120760Z",
     "iopub.status.busy": "2025-05-02T09:06:08.120086Z",
     "iopub.status.idle": "2025-05-02T09:06:08.123763Z",
     "shell.execute_reply": "2025-05-02T09:06:08.123273Z",
     "shell.execute_reply.started": "2025-05-02T08:55:14.446001Z"
    },
    "papermill": {
     "duration": 0.04125,
     "end_time": "2025-05-02T09:06:08.123904",
     "exception": false,
     "start_time": "2025-05-02T09:06:08.082654",
     "status": "completed"
    },
    "tags": []
   },
   "outputs": [
    {
     "data": {
      "text/html": [
       "<div>\n",
       "<style scoped>\n",
       "    .dataframe tbody tr th:only-of-type {\n",
       "        vertical-align: middle;\n",
       "    }\n",
       "\n",
       "    .dataframe tbody tr th {\n",
       "        vertical-align: top;\n",
       "    }\n",
       "\n",
       "    .dataframe thead th {\n",
       "        text-align: right;\n",
       "    }\n",
       "</style>\n",
       "<table border=\"1\" class=\"dataframe\">\n",
       "  <thead>\n",
       "    <tr style=\"text-align: right;\">\n",
       "      <th></th>\n",
       "      <th>hotel_address</th>\n",
       "      <th>additional_number_of_scoring</th>\n",
       "      <th>review_date</th>\n",
       "      <th>average_score</th>\n",
       "      <th>hotel_name</th>\n",
       "      <th>reviewer_nationality</th>\n",
       "      <th>negative_review</th>\n",
       "      <th>review_total_negative_word_counts</th>\n",
       "      <th>total_number_of_reviews</th>\n",
       "      <th>positive_review</th>\n",
       "      <th>review_total_positive_word_counts</th>\n",
       "      <th>total_number_of_reviews_reviewer_has_given</th>\n",
       "      <th>tags</th>\n",
       "      <th>days_since_review</th>\n",
       "      <th>lat</th>\n",
       "      <th>lng</th>\n",
       "      <th>sample</th>\n",
       "      <th>reviewer_score</th>\n",
       "    </tr>\n",
       "  </thead>\n",
       "  <tbody>\n",
       "    <tr>\n",
       "      <th>0</th>\n",
       "      <td>Via Senigallia 6 20161 Milan Italy</td>\n",
       "      <td>904</td>\n",
       "      <td>7/21/2017</td>\n",
       "      <td>8.1</td>\n",
       "      <td>Hotel Da Vinci</td>\n",
       "      <td>United Kingdom</td>\n",
       "      <td>Would have appreciated a shop in the hotel th...</td>\n",
       "      <td>52</td>\n",
       "      <td>16670</td>\n",
       "      <td>Hotel was great clean friendly staff free bre...</td>\n",
       "      <td>62</td>\n",
       "      <td>1</td>\n",
       "      <td>[' Leisure trip ', ' Couple ', ' Double Room '...</td>\n",
       "      <td>13 days</td>\n",
       "      <td>45.533137</td>\n",
       "      <td>9.171102</td>\n",
       "      <td>0</td>\n",
       "      <td>0</td>\n",
       "    </tr>\n",
       "    <tr>\n",
       "      <th>1</th>\n",
       "      <td>Arlandaweg 10 Westpoort 1043 EW Amsterdam Neth...</td>\n",
       "      <td>612</td>\n",
       "      <td>12/12/2016</td>\n",
       "      <td>8.6</td>\n",
       "      <td>Urban Lodge Hotel</td>\n",
       "      <td>Belgium</td>\n",
       "      <td>No tissue paper box was present at the room</td>\n",
       "      <td>10</td>\n",
       "      <td>5018</td>\n",
       "      <td>No Positive</td>\n",
       "      <td>0</td>\n",
       "      <td>7</td>\n",
       "      <td>[' Leisure trip ', ' Group ', ' Triple Room ',...</td>\n",
       "      <td>234 day</td>\n",
       "      <td>52.385649</td>\n",
       "      <td>4.834443</td>\n",
       "      <td>0</td>\n",
       "      <td>0</td>\n",
       "    </tr>\n",
       "    <tr>\n",
       "      <th>2</th>\n",
       "      <td>Mallorca 251 Eixample 08008 Barcelona Spain</td>\n",
       "      <td>46</td>\n",
       "      <td>11/26/2015</td>\n",
       "      <td>8.3</td>\n",
       "      <td>Alexandra Barcelona A DoubleTree by Hilton</td>\n",
       "      <td>Sweden</td>\n",
       "      <td>Pillows</td>\n",
       "      <td>3</td>\n",
       "      <td>351</td>\n",
       "      <td>Nice welcoming and service</td>\n",
       "      <td>5</td>\n",
       "      <td>15</td>\n",
       "      <td>[' Business trip ', ' Solo traveler ', ' Twin ...</td>\n",
       "      <td>616 day</td>\n",
       "      <td>41.393192</td>\n",
       "      <td>2.161520</td>\n",
       "      <td>0</td>\n",
       "      <td>0</td>\n",
       "    </tr>\n",
       "    <tr>\n",
       "      <th>3</th>\n",
       "      <td>Piazza Della Repubblica 17 Central Station 201...</td>\n",
       "      <td>241</td>\n",
       "      <td>10/17/2015</td>\n",
       "      <td>9.1</td>\n",
       "      <td>Hotel Principe Di Savoia</td>\n",
       "      <td>United States of America</td>\n",
       "      <td>No Negative</td>\n",
       "      <td>0</td>\n",
       "      <td>1543</td>\n",
       "      <td>Everything including the nice upgrade The Hot...</td>\n",
       "      <td>27</td>\n",
       "      <td>9</td>\n",
       "      <td>[' Leisure trip ', ' Couple ', ' Ambassador Ju...</td>\n",
       "      <td>656 day</td>\n",
       "      <td>45.479888</td>\n",
       "      <td>9.196298</td>\n",
       "      <td>0</td>\n",
       "      <td>0</td>\n",
       "    </tr>\n",
       "  </tbody>\n",
       "</table>\n",
       "</div>"
      ],
      "text/plain": [
       "                                       hotel_address  \\\n",
       "0                 Via Senigallia 6 20161 Milan Italy   \n",
       "1  Arlandaweg 10 Westpoort 1043 EW Amsterdam Neth...   \n",
       "2        Mallorca 251 Eixample 08008 Barcelona Spain   \n",
       "3  Piazza Della Repubblica 17 Central Station 201...   \n",
       "\n",
       "   additional_number_of_scoring review_date  average_score  \\\n",
       "0                           904   7/21/2017            8.1   \n",
       "1                           612  12/12/2016            8.6   \n",
       "2                            46  11/26/2015            8.3   \n",
       "3                           241  10/17/2015            9.1   \n",
       "\n",
       "                                   hotel_name        reviewer_nationality  \\\n",
       "0                              Hotel Da Vinci             United Kingdom    \n",
       "1                           Urban Lodge Hotel                    Belgium    \n",
       "2  Alexandra Barcelona A DoubleTree by Hilton                     Sweden    \n",
       "3                    Hotel Principe Di Savoia   United States of America    \n",
       "\n",
       "                                     negative_review  \\\n",
       "0   Would have appreciated a shop in the hotel th...   \n",
       "1        No tissue paper box was present at the room   \n",
       "2                                           Pillows    \n",
       "3                                        No Negative   \n",
       "\n",
       "   review_total_negative_word_counts  total_number_of_reviews  \\\n",
       "0                                 52                    16670   \n",
       "1                                 10                     5018   \n",
       "2                                  3                      351   \n",
       "3                                  0                     1543   \n",
       "\n",
       "                                     positive_review  \\\n",
       "0   Hotel was great clean friendly staff free bre...   \n",
       "1                                        No Positive   \n",
       "2                         Nice welcoming and service   \n",
       "3   Everything including the nice upgrade The Hot...   \n",
       "\n",
       "   review_total_positive_word_counts  \\\n",
       "0                                 62   \n",
       "1                                  0   \n",
       "2                                  5   \n",
       "3                                 27   \n",
       "\n",
       "   total_number_of_reviews_reviewer_has_given  \\\n",
       "0                                           1   \n",
       "1                                           7   \n",
       "2                                          15   \n",
       "3                                           9   \n",
       "\n",
       "                                                tags days_since_review  \\\n",
       "0  [' Leisure trip ', ' Couple ', ' Double Room '...           13 days   \n",
       "1  [' Leisure trip ', ' Group ', ' Triple Room ',...           234 day   \n",
       "2  [' Business trip ', ' Solo traveler ', ' Twin ...           616 day   \n",
       "3  [' Leisure trip ', ' Couple ', ' Ambassador Ju...           656 day   \n",
       "\n",
       "         lat       lng  sample  reviewer_score  \n",
       "0  45.533137  9.171102       0               0  \n",
       "1  52.385649  4.834443       0               0  \n",
       "2  41.393192  2.161520       0               0  \n",
       "3  45.479888  9.196298       0               0  "
      ]
     },
     "execution_count": 53,
     "metadata": {},
     "output_type": "execute_result"
    }
   ],
   "source": [
    "df_test.head(4)"
   ]
  },
  {
   "cell_type": "code",
   "execution_count": 46,
   "id": "9d665214",
   "metadata": {
    "execution": {
     "iopub.execute_input": "2025-05-02T09:06:08.177419Z",
     "iopub.status.busy": "2025-05-02T09:06:08.176489Z",
     "iopub.status.idle": "2025-05-02T09:06:08.180580Z",
     "shell.execute_reply": "2025-05-02T09:06:08.180124Z",
     "shell.execute_reply.started": "2025-05-02T08:55:14.464168Z"
    },
    "papermill": {
     "duration": 0.034444,
     "end_time": "2025-05-02T09:06:08.180760",
     "exception": false,
     "start_time": "2025-05-02T09:06:08.146316",
     "status": "completed"
    },
    "tags": []
   },
   "outputs": [
    {
     "data": {
      "text/html": [
       "<div>\n",
       "<style scoped>\n",
       "    .dataframe tbody tr th:only-of-type {\n",
       "        vertical-align: middle;\n",
       "    }\n",
       "\n",
       "    .dataframe tbody tr th {\n",
       "        vertical-align: top;\n",
       "    }\n",
       "\n",
       "    .dataframe thead th {\n",
       "        text-align: right;\n",
       "    }\n",
       "</style>\n",
       "<table border=\"1\" class=\"dataframe\">\n",
       "  <thead>\n",
       "    <tr style=\"text-align: right;\">\n",
       "      <th></th>\n",
       "      <th>reviewer_score</th>\n",
       "      <th>id</th>\n",
       "    </tr>\n",
       "  </thead>\n",
       "  <tbody>\n",
       "    <tr>\n",
       "      <th>0</th>\n",
       "      <td>8.510</td>\n",
       "      <td>488440</td>\n",
       "    </tr>\n",
       "    <tr>\n",
       "      <th>1</th>\n",
       "      <td>8.084</td>\n",
       "      <td>274649</td>\n",
       "    </tr>\n",
       "  </tbody>\n",
       "</table>\n",
       "</div>"
      ],
      "text/plain": [
       "   reviewer_score      id\n",
       "0           8.510  488440\n",
       "1           8.084  274649"
      ]
     },
     "execution_count": 46,
     "metadata": {},
     "output_type": "execute_result"
    }
   ],
   "source": [
    "sample_submission.head(2)"
   ]
  },
  {
   "cell_type": "code",
   "execution_count": 47,
   "id": "556fc14c",
   "metadata": {
    "execution": {
     "iopub.execute_input": "2025-05-02T09:06:08.237909Z",
     "iopub.status.busy": "2025-05-02T09:06:08.231679Z",
     "iopub.status.idle": "2025-05-02T09:06:08.241539Z",
     "shell.execute_reply": "2025-05-02T09:06:08.241059Z",
     "shell.execute_reply.started": "2025-05-02T08:55:14.490513Z"
    },
    "papermill": {
     "duration": 0.038133,
     "end_time": "2025-05-02T09:06:08.241711",
     "exception": false,
     "start_time": "2025-05-02T09:06:08.203578",
     "status": "completed"
    },
    "tags": []
   },
   "outputs": [
    {
     "name": "stdout",
     "output_type": "stream",
     "text": [
      "<class 'pandas.core.frame.DataFrame'>\n",
      "RangeIndex: 128935 entries, 0 to 128934\n",
      "Data columns (total 2 columns):\n",
      " #   Column          Non-Null Count   Dtype  \n",
      "---  ------          --------------   -----  \n",
      " 0   reviewer_score  128935 non-null  float64\n",
      " 1   id              128935 non-null  int64  \n",
      "dtypes: float64(1), int64(1)\n",
      "memory usage: 2.0 MB\n"
     ]
    }
   ],
   "source": [
    "sample_submission.info()"
   ]
  },
  {
   "cell_type": "code",
   "execution_count": 48,
   "id": "a3b079a7",
   "metadata": {
    "execution": {
     "iopub.execute_input": "2025-05-02T09:06:08.295134Z",
     "iopub.status.busy": "2025-05-02T09:06:08.294040Z",
     "iopub.status.idle": "2025-05-02T09:06:08.886706Z",
     "shell.execute_reply": "2025-05-02T09:06:08.886170Z",
     "shell.execute_reply.started": "2025-05-02T08:55:14.513666Z"
    },
    "papermill": {
     "duration": 0.620912,
     "end_time": "2025-05-02T09:06:08.886853",
     "exception": false,
     "start_time": "2025-05-02T09:06:08.265941",
     "status": "completed"
    },
    "tags": []
   },
   "outputs": [],
   "source": [
    "# ВАЖНО! дря корректной обработки признаков объединяем трейн и тест в один датасет\n",
    "df_train['sample'] = 1 # помечаем где у нас трейн\n",
    "df_test['sample'] = 0 # помечаем где у нас тест\n",
    "df_test['reviewer_score'] = 0 # в тесте у нас нет значения reviewer_score, мы его должны предсказать, по этому пока просто заполняем нулями\n",
    "\n",
    "data = pd.concat([df_test,df_train], ignore_index=True, sort=False) # объединяем"
   ]
  },
  {
   "cell_type": "code",
   "execution_count": 49,
   "id": "9d12d59d",
   "metadata": {
    "execution": {
     "iopub.execute_input": "2025-05-02T09:06:08.938020Z",
     "iopub.status.busy": "2025-05-02T09:06:08.937389Z",
     "iopub.status.idle": "2025-05-02T09:06:09.183238Z",
     "shell.execute_reply": "2025-05-02T09:06:09.182603Z",
     "shell.execute_reply.started": "2025-05-02T08:55:15.080036Z"
    },
    "papermill": {
     "duration": 0.273372,
     "end_time": "2025-05-02T09:06:09.183372",
     "exception": false,
     "start_time": "2025-05-02T09:06:08.910000",
     "status": "completed"
    },
    "tags": []
   },
   "outputs": [
    {
     "name": "stdout",
     "output_type": "stream",
     "text": [
      "<class 'pandas.core.frame.DataFrame'>\n",
      "RangeIndex: 515738 entries, 0 to 515737\n",
      "Data columns (total 18 columns):\n",
      " #   Column                                      Non-Null Count   Dtype  \n",
      "---  ------                                      --------------   -----  \n",
      " 0   hotel_address                               515738 non-null  object \n",
      " 1   additional_number_of_scoring                515738 non-null  int64  \n",
      " 2   review_date                                 515738 non-null  object \n",
      " 3   average_score                               515738 non-null  float64\n",
      " 4   hotel_name                                  515738 non-null  object \n",
      " 5   reviewer_nationality                        515738 non-null  object \n",
      " 6   negative_review                             515738 non-null  object \n",
      " 7   review_total_negative_word_counts           515738 non-null  int64  \n",
      " 8   total_number_of_reviews                     515738 non-null  int64  \n",
      " 9   positive_review                             515738 non-null  object \n",
      " 10  review_total_positive_word_counts           515738 non-null  int64  \n",
      " 11  total_number_of_reviews_reviewer_has_given  515738 non-null  int64  \n",
      " 12  tags                                        515738 non-null  object \n",
      " 13  days_since_review                           515738 non-null  object \n",
      " 14  lat                                         512470 non-null  float64\n",
      " 15  lng                                         512470 non-null  float64\n",
      " 16  sample                                      515738 non-null  int64  \n",
      " 17  reviewer_score                              515738 non-null  float64\n",
      "dtypes: float64(4), int64(6), object(8)\n",
      "memory usage: 70.8+ MB\n"
     ]
    }
   ],
   "source": [
    "data.info()"
   ]
  },
  {
   "cell_type": "markdown",
   "id": "bbd07ef6",
   "metadata": {},
   "source": [
    "#### Проверим наличие дубликатов"
   ]
  },
  {
   "cell_type": "code",
   "execution_count": 50,
   "id": "6793948e",
   "metadata": {},
   "outputs": [
    {
     "data": {
      "text/plain": [
       "'Число найденных дубликатов: 336'"
      ]
     },
     "metadata": {},
     "output_type": "display_data"
    }
   ],
   "source": [
    "dupl_columns = list(data.columns)\n",
    "\n",
    "mask = data.duplicated(subset=dupl_columns)\n",
    "h_duplicates = data[mask]\n",
    "display(f'Число найденных дубликатов: {h_duplicates.shape[0]}')"
   ]
  },
  {
   "cell_type": "markdown",
   "id": "202dfa66",
   "metadata": {},
   "source": [
    "#### Удалим дубликаты"
   ]
  },
  {
   "cell_type": "code",
   "execution_count": 51,
   "id": "8395ee62",
   "metadata": {},
   "outputs": [],
   "source": [
    "data = data.drop_duplicates(subset=dupl_columns)"
   ]
  },
  {
   "cell_type": "code",
   "execution_count": 52,
   "id": "d104d938",
   "metadata": {},
   "outputs": [
    {
     "name": "stdout",
     "output_type": "stream",
     "text": [
      "<class 'pandas.core.frame.DataFrame'>\n",
      "Index: 515402 entries, 0 to 515737\n",
      "Data columns (total 18 columns):\n",
      " #   Column                                      Non-Null Count   Dtype  \n",
      "---  ------                                      --------------   -----  \n",
      " 0   hotel_address                               515402 non-null  object \n",
      " 1   additional_number_of_scoring                515402 non-null  int64  \n",
      " 2   review_date                                 515402 non-null  object \n",
      " 3   average_score                               515402 non-null  float64\n",
      " 4   hotel_name                                  515402 non-null  object \n",
      " 5   reviewer_nationality                        515402 non-null  object \n",
      " 6   negative_review                             515402 non-null  object \n",
      " 7   review_total_negative_word_counts           515402 non-null  int64  \n",
      " 8   total_number_of_reviews                     515402 non-null  int64  \n",
      " 9   positive_review                             515402 non-null  object \n",
      " 10  review_total_positive_word_counts           515402 non-null  int64  \n",
      " 11  total_number_of_reviews_reviewer_has_given  515402 non-null  int64  \n",
      " 12  tags                                        515402 non-null  object \n",
      " 13  days_since_review                           515402 non-null  object \n",
      " 14  lat                                         512134 non-null  float64\n",
      " 15  lng                                         512134 non-null  float64\n",
      " 16  sample                                      515402 non-null  int64  \n",
      " 17  reviewer_score                              515402 non-null  float64\n",
      "dtypes: float64(4), int64(6), object(8)\n",
      "memory usage: 74.7+ MB\n"
     ]
    }
   ],
   "source": [
    "data.info()"
   ]
  },
  {
   "cell_type": "code",
   "execution_count": 15,
   "id": "0b200fb5",
   "metadata": {
    "execution": {
     "iopub.execute_input": "2025-05-02T09:06:09.235482Z",
     "iopub.status.busy": "2025-05-02T09:06:09.234876Z",
     "iopub.status.idle": "2025-05-02T09:06:09.253159Z",
     "shell.execute_reply": "2025-05-02T09:06:09.253602Z",
     "shell.execute_reply.started": "2025-05-02T08:55:15.332461Z"
    },
    "papermill": {
     "duration": 0.046936,
     "end_time": "2025-05-02T09:06:09.253824",
     "exception": false,
     "start_time": "2025-05-02T09:06:09.206888",
     "status": "completed"
    },
    "tags": []
   },
   "outputs": [
    {
     "name": "stderr",
     "output_type": "stream",
     "text": [
      "C:\\Users\\Дмитрий\\AppData\\Local\\Temp\\ipykernel_10768\\3278631051.py:1: FutureWarning: A value is trying to be set on a copy of a DataFrame or Series through chained assignment using an inplace method.\n",
      "The behavior will change in pandas 3.0. This inplace method will never work because the intermediate object on which we are setting values always behaves as a copy.\n",
      "\n",
      "For example, when doing 'df[col].method(value, inplace=True)', try using 'df.method({col: value}, inplace=True)' or df[col] = df[col].method(value) instead, to perform the operation inplace on the original object.\n",
      "\n",
      "\n",
      "  data['lat'] = data['lat'].fillna(0, inplace=True)\n",
      "C:\\Users\\Дмитрий\\AppData\\Local\\Temp\\ipykernel_10768\\3278631051.py:2: FutureWarning: A value is trying to be set on a copy of a DataFrame or Series through chained assignment using an inplace method.\n",
      "The behavior will change in pandas 3.0. This inplace method will never work because the intermediate object on which we are setting values always behaves as a copy.\n",
      "\n",
      "For example, when doing 'df[col].method(value, inplace=True)', try using 'df.method({col: value}, inplace=True)' or df[col] = df[col].method(value) instead, to perform the operation inplace on the original object.\n",
      "\n",
      "\n",
      "  data['lng'] = data['lng'].fillna(0, inplace=True)\n"
     ]
    }
   ],
   "source": [
    "data['lat'] = data['lat'].fillna(0, inplace=True)\n",
    "data['lng'] = data['lng'].fillna(0, inplace=True)"
   ]
  },
  {
   "cell_type": "code",
   "execution_count": 16,
   "id": "fe753fa1",
   "metadata": {
    "execution": {
     "iopub.execute_input": "2025-05-02T09:06:09.328019Z",
     "iopub.status.busy": "2025-05-02T09:06:09.312912Z",
     "iopub.status.idle": "2025-05-02T09:06:10.162806Z",
     "shell.execute_reply": "2025-05-02T09:06:10.162322Z",
     "shell.execute_reply.started": "2025-05-02T08:55:15.357573Z"
    },
    "papermill": {
     "duration": 0.885868,
     "end_time": "2025-05-02T09:06:10.162949",
     "exception": false,
     "start_time": "2025-05-02T09:06:09.277081",
     "status": "completed"
    },
    "tags": []
   },
   "outputs": [
    {
     "data": {
      "text/plain": [
       "hotel_address                                   1493\n",
       "additional_number_of_scoring                     480\n",
       "review_date                                      731\n",
       "average_score                                     34\n",
       "hotel_name                                      1492\n",
       "reviewer_nationality                             227\n",
       "negative_review                               330011\n",
       "review_total_negative_word_counts                402\n",
       "total_number_of_reviews                         1142\n",
       "positive_review                               412601\n",
       "review_total_positive_word_counts                365\n",
       "total_number_of_reviews_reviewer_has_given       198\n",
       "tags                                           55242\n",
       "days_since_review                                731\n",
       "lat                                                1\n",
       "lng                                                1\n",
       "sample                                             2\n",
       "reviewer_score                                    38\n",
       "dtype: int64"
      ]
     },
     "execution_count": 16,
     "metadata": {},
     "output_type": "execute_result"
    }
   ],
   "source": [
    "data.nunique(dropna=False)"
   ]
  },
  {
   "cell_type": "code",
   "execution_count": 18,
   "id": "b60603f2",
   "metadata": {
    "execution": {
     "iopub.execute_input": "2025-05-02T09:06:10.304866Z",
     "iopub.status.busy": "2025-05-02T09:06:10.304243Z",
     "iopub.status.idle": "2025-05-02T09:06:11.360336Z",
     "shell.execute_reply": "2025-05-02T09:06:11.360853Z",
     "shell.execute_reply.started": "2025-05-02T08:55:16.243978Z"
    },
    "papermill": {
     "duration": 1.174599,
     "end_time": "2025-05-02T09:06:11.361028",
     "exception": false,
     "start_time": "2025-05-02T09:06:10.186429",
     "status": "completed"
    },
    "tags": []
   },
   "outputs": [
    {
     "data": {
      "text/plain": [
       "<Axes: >"
      ]
     },
     "execution_count": 18,
     "metadata": {},
     "output_type": "execute_result"
    },
    {
     "data": {
      "image/png": "[encoded data removed]",
      "text/plain": [
       "<Figure size 1500x1000 with 2 Axes>"
      ]
     },
     "metadata": {},
     "output_type": "display_data"
    }
   ],
   "source": [
    "plt.rcParams['figure.figsize'] = (15,10)\n",
    "sns.heatmap(data.drop(['sample'], axis=1).corr(numeric_only=True), annot=True)"
   ]
  },
  {
   "cell_type": "code",
   "execution_count": 19,
   "id": "5417ecd3",
   "metadata": {
    "execution": {
     "iopub.execute_input": "2025-05-02T09:06:11.451371Z",
     "iopub.status.busy": "2025-05-02T09:06:11.450264Z",
     "iopub.status.idle": "2025-05-02T09:06:11.453002Z",
     "shell.execute_reply": "2025-05-02T09:06:11.452380Z",
     "shell.execute_reply.started": "2025-05-02T08:55:17.401663Z"
    },
    "papermill": {
     "duration": 0.065779,
     "end_time": "2025-05-02T09:06:11.453141",
     "exception": false,
     "start_time": "2025-05-02T09:06:11.387362",
     "status": "completed"
    },
    "tags": []
   },
   "outputs": [],
   "source": [
    "# убираем признаки которые еще не успели обработать, \n",
    "# модель на признаках с dtypes \"object\" обучаться не будет, просто выберим их и удалим\n",
    "object_columns = [s for s in data.columns if data[s].dtypes == 'object']\n",
    "data.drop(object_columns, axis = 1, inplace=True)"
   ]
  },
  {
   "cell_type": "code",
   "execution_count": 20,
   "id": "b11897b5",
   "metadata": {
    "execution": {
     "iopub.execute_input": "2025-05-02T09:06:11.512592Z",
     "iopub.status.busy": "2025-05-02T09:06:11.511969Z",
     "iopub.status.idle": "2025-05-02T09:06:11.528785Z",
     "shell.execute_reply": "2025-05-02T09:06:11.528147Z",
     "shell.execute_reply.started": "2025-05-02T08:55:17.441549Z"
    },
    "papermill": {
     "duration": 0.048007,
     "end_time": "2025-05-02T09:06:11.528926",
     "exception": false,
     "start_time": "2025-05-02T09:06:11.480919",
     "status": "completed"
    },
    "tags": []
   },
   "outputs": [
    {
     "name": "stdout",
     "output_type": "stream",
     "text": [
      "<class 'pandas.core.frame.DataFrame'>\n",
      "RangeIndex: 515738 entries, 0 to 515737\n",
      "Data columns (total 8 columns):\n",
      " #   Column                                      Non-Null Count   Dtype  \n",
      "---  ------                                      --------------   -----  \n",
      " 0   additional_number_of_scoring                515738 non-null  int64  \n",
      " 1   average_score                               515738 non-null  float64\n",
      " 2   review_total_negative_word_counts           515738 non-null  int64  \n",
      " 3   total_number_of_reviews                     515738 non-null  int64  \n",
      " 4   review_total_positive_word_counts           515738 non-null  int64  \n",
      " 5   total_number_of_reviews_reviewer_has_given  515738 non-null  int64  \n",
      " 6   sample                                      515738 non-null  int64  \n",
      " 7   reviewer_score                              515738 non-null  float64\n",
      "dtypes: float64(2), int64(6)\n",
      "memory usage: 31.5 MB\n"
     ]
    }
   ],
   "source": [
    "data.info()"
   ]
  },
  {
   "cell_type": "code",
   "execution_count": 21,
   "id": "5d0287d9",
   "metadata": {
    "execution": {
     "iopub.execute_input": "2025-05-02T09:06:11.588717Z",
     "iopub.status.busy": "2025-05-02T09:06:11.587603Z",
     "iopub.status.idle": "2025-05-02T09:06:11.631521Z",
     "shell.execute_reply": "2025-05-02T09:06:11.630992Z",
     "shell.execute_reply.started": "2025-05-02T08:55:17.470441Z"
    },
    "papermill": {
     "duration": 0.076164,
     "end_time": "2025-05-02T09:06:11.631671",
     "exception": false,
     "start_time": "2025-05-02T09:06:11.555507",
     "status": "completed"
    },
    "tags": []
   },
   "outputs": [],
   "source": [
    "# Теперь выделим тестовую часть\n",
    "train_data = data.query('sample == 1').drop(['sample'], axis=1)\n",
    "test_data = data.query('sample == 0').drop(['sample'], axis=1)\n",
    "\n",
    "y = train_data.reviewer_score.values            # наш таргет\n",
    "X = train_data.drop(['reviewer_score'], axis=1)"
   ]
  },
  {
   "cell_type": "code",
   "execution_count": 22,
   "id": "50e83b14",
   "metadata": {
    "execution": {
     "iopub.execute_input": "2025-05-02T09:06:11.690779Z",
     "iopub.status.busy": "2025-05-02T09:06:11.689940Z",
     "iopub.status.idle": "2025-05-02T09:06:11.741563Z",
     "shell.execute_reply": "2025-05-02T09:06:11.740991Z",
     "shell.execute_reply.started": "2025-05-02T08:55:17.521961Z"
    },
    "papermill": {
     "duration": 0.083698,
     "end_time": "2025-05-02T09:06:11.741753",
     "exception": false,
     "start_time": "2025-05-02T09:06:11.658055",
     "status": "completed"
    },
    "tags": []
   },
   "outputs": [],
   "source": [
    "# Воспользуемся специальной функцие train_test_split для разбивки тестовых данных\n",
    "# выделим 20% данных на валидацию (параметр test_size)\n",
    "X_train, X_test, y_train, y_test = train_test_split(X, y, test_size=0.2, random_state=RANDOM_SEED)"
   ]
  },
  {
   "cell_type": "code",
   "execution_count": 23,
   "id": "49f705c0",
   "metadata": {
    "execution": {
     "iopub.execute_input": "2025-05-02T09:06:11.801145Z",
     "iopub.status.busy": "2025-05-02T09:06:11.798096Z",
     "iopub.status.idle": "2025-05-02T09:06:11.804027Z",
     "shell.execute_reply": "2025-05-02T09:06:11.804422Z",
     "shell.execute_reply.started": "2025-05-02T08:55:17.585279Z"
    },
    "papermill": {
     "duration": 0.036116,
     "end_time": "2025-05-02T09:06:11.804616",
     "exception": false,
     "start_time": "2025-05-02T09:06:11.768500",
     "status": "completed"
    },
    "tags": []
   },
   "outputs": [
    {
     "data": {
      "text/plain": [
       "((128935, 7), (386803, 7), (386803, 6), (309442, 6), (77361, 6))"
      ]
     },
     "execution_count": 23,
     "metadata": {},
     "output_type": "execute_result"
    }
   ],
   "source": [
    "# проверяем\n",
    "test_data.shape, train_data.shape, X.shape, X_train.shape, X_test.shape"
   ]
  },
  {
   "cell_type": "code",
   "execution_count": 24,
   "id": "3daab5ae",
   "metadata": {
    "execution": {
     "iopub.execute_input": "2025-05-02T09:06:11.864471Z",
     "iopub.status.busy": "2025-05-02T09:06:11.863863Z",
     "iopub.status.idle": "2025-05-02T09:06:12.123054Z",
     "shell.execute_reply": "2025-05-02T09:06:12.122514Z",
     "shell.execute_reply.started": "2025-05-02T08:55:17.593524Z"
    },
    "papermill": {
     "duration": 0.29079,
     "end_time": "2025-05-02T09:06:12.123200",
     "exception": false,
     "start_time": "2025-05-02T09:06:11.832410",
     "status": "completed"
    },
    "tags": []
   },
   "outputs": [],
   "source": [
    "# Импортируем необходимые библиотеки:\n",
    "from sklearn.ensemble import RandomForestRegressor # инструмент для создания и обучения модели\n",
    "from sklearn import metrics # инструменты для оценки точности модели"
   ]
  },
  {
   "cell_type": "code",
   "execution_count": 25,
   "id": "f6ca9a27",
   "metadata": {
    "execution": {
     "iopub.execute_input": "2025-05-02T09:06:12.181927Z",
     "iopub.status.busy": "2025-05-02T09:06:12.181168Z",
     "iopub.status.idle": "2025-05-02T09:06:12.183972Z",
     "shell.execute_reply": "2025-05-02T09:06:12.183369Z",
     "shell.execute_reply.started": "2025-05-02T08:55:17.818320Z"
    },
    "papermill": {
     "duration": 0.034114,
     "end_time": "2025-05-02T09:06:12.184104",
     "exception": false,
     "start_time": "2025-05-02T09:06:12.149990",
     "status": "completed"
    },
    "tags": []
   },
   "outputs": [],
   "source": [
    "# Создаём модель (НАСТРОЙКИ НЕ ТРОГАЕМ)\n",
    "model = RandomForestRegressor(n_estimators=100, verbose=1, n_jobs=-1, random_state=RANDOM_SEED)"
   ]
  },
  {
   "cell_type": "code",
   "execution_count": 26,
   "id": "0d2f56d6",
   "metadata": {
    "execution": {
     "iopub.execute_input": "2025-05-02T09:06:12.244790Z",
     "iopub.status.busy": "2025-05-02T09:06:12.244139Z",
     "iopub.status.idle": "2025-05-02T09:07:05.602964Z",
     "shell.execute_reply": "2025-05-02T09:07:05.603531Z",
     "shell.execute_reply.started": "2025-05-02T08:55:17.825395Z"
    },
    "papermill": {
     "duration": 53.392549,
     "end_time": "2025-05-02T09:07:05.603767",
     "exception": false,
     "start_time": "2025-05-02T09:06:12.211218",
     "status": "completed"
    },
    "tags": []
   },
   "outputs": [
    {
     "name": "stderr",
     "output_type": "stream",
     "text": [
      "[Parallel(n_jobs=-1)]: Using backend ThreadingBackend with 4 concurrent workers.\n",
      "[Parallel(n_jobs=-1)]: Done  42 tasks      | elapsed:   21.7s\n",
      "[Parallel(n_jobs=-1)]: Done 100 out of 100 | elapsed:   49.7s finished\n",
      "[Parallel(n_jobs=4)]: Using backend ThreadingBackend with 4 concurrent workers.\n",
      "[Parallel(n_jobs=4)]: Done  42 tasks      | elapsed:    0.7s\n",
      "[Parallel(n_jobs=4)]: Done 100 out of 100 | elapsed:    1.7s finished\n"
     ]
    }
   ],
   "source": [
    "# Обучаем модель на тестовом наборе данных\n",
    "model.fit(X_train, y_train)\n",
    "\n",
    "# Используем обученную модель для предсказания рейтинга ресторанов в тестовой выборке.\n",
    "# Предсказанные значения записываем в переменную y_pred\n",
    "y_pred = model.predict(X_test)"
   ]
  },
  {
   "cell_type": "code",
   "execution_count": 27,
   "id": "60e36293",
   "metadata": {
    "execution": {
     "iopub.execute_input": "2025-05-02T09:07:05.665573Z",
     "iopub.status.busy": "2025-05-02T09:07:05.665010Z",
     "iopub.status.idle": "2025-05-02T09:07:05.669056Z",
     "shell.execute_reply": "2025-05-02T09:07:05.669478Z",
     "shell.execute_reply.started": "2025-05-02T08:56:14.612609Z"
    },
    "papermill": {
     "duration": 0.037463,
     "end_time": "2025-05-02T09:07:05.669676",
     "exception": false,
     "start_time": "2025-05-02T09:07:05.632213",
     "status": "completed"
    },
    "tags": []
   },
   "outputs": [
    {
     "name": "stdout",
     "output_type": "stream",
     "text": [
      "MAPE: 0.9822361453527125\n"
     ]
    }
   ],
   "source": [
    "# Сравниваем предсказанные значения (y_pred) с реальными (y_test), и смотрим насколько они в среднем отличаются\n",
    "# Метрика называется Mean Absolute Error (MAE) и показывает среднее отклонение предсказанных значений от фактических.\n",
    "print('MAPE:', metrics.mean_absolute_error(y_test, y_pred))"
   ]
  },
  {
   "cell_type": "code",
   "execution_count": 28,
   "id": "420c40b5",
   "metadata": {
    "execution": {
     "iopub.execute_input": "2025-05-02T09:07:05.736702Z",
     "iopub.status.busy": "2025-05-02T09:07:05.735734Z",
     "iopub.status.idle": "2025-05-02T09:07:06.188116Z",
     "shell.execute_reply": "2025-05-02T09:07:06.188594Z",
     "shell.execute_reply.started": "2025-05-02T08:56:14.621315Z"
    },
    "papermill": {
     "duration": 0.488588,
     "end_time": "2025-05-02T09:07:06.188807",
     "exception": false,
     "start_time": "2025-05-02T09:07:05.700219",
     "status": "completed"
    },
    "tags": []
   },
   "outputs": [
    {
     "data": {
      "text/plain": [
       "<Axes: >"
      ]
     },
     "execution_count": 28,
     "metadata": {},
     "output_type": "execute_result"
    },
    {
     "data": {
      "image/png": "[encoded data removed]",
      "text/plain": [
       "<Figure size 1000x1000 with 1 Axes>"
      ]
     },
     "metadata": {},
     "output_type": "display_data"
    }
   ],
   "source": [
    "# в RandomForestRegressor есть возможность вывести самые важные признаки для модели\n",
    "plt.rcParams['figure.figsize'] = (10,10)\n",
    "feat_importances = pd.Series(model.feature_importances_, index=X.columns)\n",
    "feat_importances.nlargest(15).plot(kind='barh')"
   ]
  },
  {
   "cell_type": "code",
   "execution_count": 29,
   "id": "5df2b20b",
   "metadata": {
    "execution": {
     "iopub.execute_input": "2025-05-02T09:07:06.264059Z",
     "iopub.status.busy": "2025-05-02T09:07:06.263277Z",
     "iopub.status.idle": "2025-05-02T09:07:06.267366Z",
     "shell.execute_reply": "2025-05-02T09:07:06.266899Z",
     "shell.execute_reply.started": "2025-05-02T08:56:15.041258Z"
    },
    "papermill": {
     "duration": 0.049161,
     "end_time": "2025-05-02T09:07:06.267495",
     "exception": false,
     "start_time": "2025-05-02T09:07:06.218334",
     "status": "completed"
    },
    "tags": []
   },
   "outputs": [
    {
     "data": {
      "text/html": [
       "<div>\n",
       "<style scoped>\n",
       "    .dataframe tbody tr th:only-of-type {\n",
       "        vertical-align: middle;\n",
       "    }\n",
       "\n",
       "    .dataframe tbody tr th {\n",
       "        vertical-align: top;\n",
       "    }\n",
       "\n",
       "    .dataframe thead th {\n",
       "        text-align: right;\n",
       "    }\n",
       "</style>\n",
       "<table border=\"1\" class=\"dataframe\">\n",
       "  <thead>\n",
       "    <tr style=\"text-align: right;\">\n",
       "      <th></th>\n",
       "      <th>additional_number_of_scoring</th>\n",
       "      <th>average_score</th>\n",
       "      <th>review_total_negative_word_counts</th>\n",
       "      <th>total_number_of_reviews</th>\n",
       "      <th>review_total_positive_word_counts</th>\n",
       "      <th>total_number_of_reviews_reviewer_has_given</th>\n",
       "      <th>reviewer_score</th>\n",
       "    </tr>\n",
       "  </thead>\n",
       "  <tbody>\n",
       "    <tr>\n",
       "      <th>34411</th>\n",
       "      <td>1172</td>\n",
       "      <td>7.8</td>\n",
       "      <td>0</td>\n",
       "      <td>5945</td>\n",
       "      <td>11</td>\n",
       "      <td>19</td>\n",
       "      <td>0.0</td>\n",
       "    </tr>\n",
       "    <tr>\n",
       "      <th>6845</th>\n",
       "      <td>137</td>\n",
       "      <td>8.4</td>\n",
       "      <td>29</td>\n",
       "      <td>1538</td>\n",
       "      <td>10</td>\n",
       "      <td>3</td>\n",
       "      <td>0.0</td>\n",
       "    </tr>\n",
       "    <tr>\n",
       "      <th>5552</th>\n",
       "      <td>54</td>\n",
       "      <td>7.9</td>\n",
       "      <td>8</td>\n",
       "      <td>842</td>\n",
       "      <td>0</td>\n",
       "      <td>2</td>\n",
       "      <td>0.0</td>\n",
       "    </tr>\n",
       "    <tr>\n",
       "      <th>96342</th>\n",
       "      <td>514</td>\n",
       "      <td>8.9</td>\n",
       "      <td>10</td>\n",
       "      <td>7108</td>\n",
       "      <td>7</td>\n",
       "      <td>17</td>\n",
       "      <td>0.0</td>\n",
       "    </tr>\n",
       "    <tr>\n",
       "      <th>116411</th>\n",
       "      <td>757</td>\n",
       "      <td>8.7</td>\n",
       "      <td>71</td>\n",
       "      <td>5236</td>\n",
       "      <td>57</td>\n",
       "      <td>5</td>\n",
       "      <td>0.0</td>\n",
       "    </tr>\n",
       "    <tr>\n",
       "      <th>30102</th>\n",
       "      <td>107</td>\n",
       "      <td>9.0</td>\n",
       "      <td>62</td>\n",
       "      <td>617</td>\n",
       "      <td>0</td>\n",
       "      <td>2</td>\n",
       "      <td>0.0</td>\n",
       "    </tr>\n",
       "    <tr>\n",
       "      <th>76717</th>\n",
       "      <td>765</td>\n",
       "      <td>8.4</td>\n",
       "      <td>51</td>\n",
       "      <td>4686</td>\n",
       "      <td>0</td>\n",
       "      <td>2</td>\n",
       "      <td>0.0</td>\n",
       "    </tr>\n",
       "    <tr>\n",
       "      <th>122307</th>\n",
       "      <td>204</td>\n",
       "      <td>9.0</td>\n",
       "      <td>47</td>\n",
       "      <td>812</td>\n",
       "      <td>39</td>\n",
       "      <td>1</td>\n",
       "      <td>0.0</td>\n",
       "    </tr>\n",
       "    <tr>\n",
       "      <th>105271</th>\n",
       "      <td>407</td>\n",
       "      <td>8.2</td>\n",
       "      <td>8</td>\n",
       "      <td>3417</td>\n",
       "      <td>5</td>\n",
       "      <td>6</td>\n",
       "      <td>0.0</td>\n",
       "    </tr>\n",
       "    <tr>\n",
       "      <th>49134</th>\n",
       "      <td>247</td>\n",
       "      <td>9.2</td>\n",
       "      <td>2</td>\n",
       "      <td>1914</td>\n",
       "      <td>33</td>\n",
       "      <td>4</td>\n",
       "      <td>0.0</td>\n",
       "    </tr>\n",
       "  </tbody>\n",
       "</table>\n",
       "</div>"
      ],
      "text/plain": [
       "        additional_number_of_scoring  average_score  \\\n",
       "34411                           1172            7.8   \n",
       "6845                             137            8.4   \n",
       "5552                              54            7.9   \n",
       "96342                            514            8.9   \n",
       "116411                           757            8.7   \n",
       "30102                            107            9.0   \n",
       "76717                            765            8.4   \n",
       "122307                           204            9.0   \n",
       "105271                           407            8.2   \n",
       "49134                            247            9.2   \n",
       "\n",
       "        review_total_negative_word_counts  total_number_of_reviews  \\\n",
       "34411                                   0                     5945   \n",
       "6845                                   29                     1538   \n",
       "5552                                    8                      842   \n",
       "96342                                  10                     7108   \n",
       "116411                                 71                     5236   \n",
       "30102                                  62                      617   \n",
       "76717                                  51                     4686   \n",
       "122307                                 47                      812   \n",
       "105271                                  8                     3417   \n",
       "49134                                   2                     1914   \n",
       "\n",
       "        review_total_positive_word_counts  \\\n",
       "34411                                  11   \n",
       "6845                                   10   \n",
       "5552                                    0   \n",
       "96342                                   7   \n",
       "116411                                 57   \n",
       "30102                                   0   \n",
       "76717                                   0   \n",
       "122307                                 39   \n",
       "105271                                  5   \n",
       "49134                                  33   \n",
       "\n",
       "        total_number_of_reviews_reviewer_has_given  reviewer_score  \n",
       "34411                                           19             0.0  \n",
       "6845                                             3             0.0  \n",
       "5552                                             2             0.0  \n",
       "96342                                           17             0.0  \n",
       "116411                                           5             0.0  \n",
       "30102                                            2             0.0  \n",
       "76717                                            2             0.0  \n",
       "122307                                           1             0.0  \n",
       "105271                                           6             0.0  \n",
       "49134                                            4             0.0  "
      ]
     },
     "execution_count": 29,
     "metadata": {},
     "output_type": "execute_result"
    }
   ],
   "source": [
    "test_data.sample(10)"
   ]
  },
  {
   "cell_type": "code",
   "execution_count": 30,
   "id": "bc3ecbc6",
   "metadata": {
    "execution": {
     "iopub.execute_input": "2025-05-02T09:07:06.334809Z",
     "iopub.status.busy": "2025-05-02T09:07:06.334156Z",
     "iopub.status.idle": "2025-05-02T09:07:06.337161Z",
     "shell.execute_reply": "2025-05-02T09:07:06.336659Z",
     "shell.execute_reply.started": "2025-05-02T08:56:15.061416Z"
    },
    "papermill": {
     "duration": 0.03942,
     "end_time": "2025-05-02T09:07:06.337293",
     "exception": false,
     "start_time": "2025-05-02T09:07:06.297873",
     "status": "completed"
    },
    "tags": []
   },
   "outputs": [],
   "source": [
    "test_data = test_data.drop(['reviewer_score'], axis=1)"
   ]
  },
  {
   "cell_type": "code",
   "execution_count": 31,
   "id": "3da632d4",
   "metadata": {
    "execution": {
     "iopub.execute_input": "2025-05-02T09:07:06.408931Z",
     "iopub.status.busy": "2025-05-02T09:07:06.408072Z",
     "iopub.status.idle": "2025-05-02T09:07:06.411113Z",
     "shell.execute_reply": "2025-05-02T09:07:06.411540Z",
     "shell.execute_reply.started": "2025-05-02T08:56:15.079263Z"
    },
    "papermill": {
     "duration": 0.043733,
     "end_time": "2025-05-02T09:07:06.411715",
     "exception": false,
     "start_time": "2025-05-02T09:07:06.367982",
     "status": "completed"
    },
    "tags": []
   },
   "outputs": [
    {
     "data": {
      "text/html": [
       "<div>\n",
       "<style scoped>\n",
       "    .dataframe tbody tr th:only-of-type {\n",
       "        vertical-align: middle;\n",
       "    }\n",
       "\n",
       "    .dataframe tbody tr th {\n",
       "        vertical-align: top;\n",
       "    }\n",
       "\n",
       "    .dataframe thead th {\n",
       "        text-align: right;\n",
       "    }\n",
       "</style>\n",
       "<table border=\"1\" class=\"dataframe\">\n",
       "  <thead>\n",
       "    <tr style=\"text-align: right;\">\n",
       "      <th></th>\n",
       "      <th>reviewer_score</th>\n",
       "      <th>id</th>\n",
       "    </tr>\n",
       "  </thead>\n",
       "  <tbody>\n",
       "    <tr>\n",
       "      <th>0</th>\n",
       "      <td>1</td>\n",
       "      <td>488440</td>\n",
       "    </tr>\n",
       "    <tr>\n",
       "      <th>1</th>\n",
       "      <td>10</td>\n",
       "      <td>274649</td>\n",
       "    </tr>\n",
       "    <tr>\n",
       "      <th>2</th>\n",
       "      <td>3</td>\n",
       "      <td>374688</td>\n",
       "    </tr>\n",
       "    <tr>\n",
       "      <th>3</th>\n",
       "      <td>10</td>\n",
       "      <td>404352</td>\n",
       "    </tr>\n",
       "    <tr>\n",
       "      <th>4</th>\n",
       "      <td>9</td>\n",
       "      <td>451596</td>\n",
       "    </tr>\n",
       "    <tr>\n",
       "      <th>...</th>\n",
       "      <td>...</td>\n",
       "      <td>...</td>\n",
       "    </tr>\n",
       "    <tr>\n",
       "      <th>128930</th>\n",
       "      <td>7</td>\n",
       "      <td>495812</td>\n",
       "    </tr>\n",
       "    <tr>\n",
       "      <th>128931</th>\n",
       "      <td>1</td>\n",
       "      <td>315577</td>\n",
       "    </tr>\n",
       "    <tr>\n",
       "      <th>128932</th>\n",
       "      <td>3</td>\n",
       "      <td>511968</td>\n",
       "    </tr>\n",
       "    <tr>\n",
       "      <th>128933</th>\n",
       "      <td>6</td>\n",
       "      <td>303386</td>\n",
       "    </tr>\n",
       "    <tr>\n",
       "      <th>128934</th>\n",
       "      <td>5</td>\n",
       "      <td>103157</td>\n",
       "    </tr>\n",
       "  </tbody>\n",
       "</table>\n",
       "<p>128935 rows × 2 columns</p>\n",
       "</div>"
      ],
      "text/plain": [
       "        reviewer_score      id\n",
       "0                    1  488440\n",
       "1                   10  274649\n",
       "2                    3  374688\n",
       "3                   10  404352\n",
       "4                    9  451596\n",
       "...                ...     ...\n",
       "128930               7  495812\n",
       "128931               1  315577\n",
       "128932               3  511968\n",
       "128933               6  303386\n",
       "128934               5  103157\n",
       "\n",
       "[128935 rows x 2 columns]"
      ]
     },
     "execution_count": 31,
     "metadata": {},
     "output_type": "execute_result"
    }
   ],
   "source": [
    "sample_submission"
   ]
  },
  {
   "cell_type": "code",
   "execution_count": 32,
   "id": "7e917f0e",
   "metadata": {
    "execution": {
     "iopub.execute_input": "2025-05-02T09:07:06.477614Z",
     "iopub.status.busy": "2025-05-02T09:07:06.474599Z",
     "iopub.status.idle": "2025-05-02T09:07:09.003576Z",
     "shell.execute_reply": "2025-05-02T09:07:09.004263Z",
     "shell.execute_reply.started": "2025-05-02T08:56:15.100924Z"
    },
    "papermill": {
     "duration": 2.562585,
     "end_time": "2025-05-02T09:07:09.004439",
     "exception": false,
     "start_time": "2025-05-02T09:07:06.441854",
     "status": "completed"
    },
    "tags": []
   },
   "outputs": [
    {
     "name": "stderr",
     "output_type": "stream",
     "text": [
      "[Parallel(n_jobs=4)]: Using backend ThreadingBackend with 4 concurrent workers.\n",
      "[Parallel(n_jobs=4)]: Done  42 tasks      | elapsed:    1.6s\n",
      "[Parallel(n_jobs=4)]: Done 100 out of 100 | elapsed:    3.3s finished\n"
     ]
    }
   ],
   "source": [
    "predict_submission = model.predict(test_data)"
   ]
  },
  {
   "cell_type": "code",
   "execution_count": 33,
   "id": "a0155f72",
   "metadata": {
    "execution": {
     "iopub.execute_input": "2025-05-02T09:07:09.074528Z",
     "iopub.status.busy": "2025-05-02T09:07:09.073821Z",
     "iopub.status.idle": "2025-05-02T09:07:09.076824Z",
     "shell.execute_reply": "2025-05-02T09:07:09.077259Z",
     "shell.execute_reply.started": "2025-05-02T08:56:17.733874Z"
    },
    "papermill": {
     "duration": 0.041111,
     "end_time": "2025-05-02T09:07:09.077413",
     "exception": false,
     "start_time": "2025-05-02T09:07:09.036302",
     "status": "completed"
    },
    "tags": []
   },
   "outputs": [
    {
     "data": {
      "text/plain": [
       "array([8.51  , 8.084 , 7.968 , ..., 8.426 , 9.617 , 7.9375],\n",
       "      shape=(128935,))"
      ]
     },
     "execution_count": 33,
     "metadata": {},
     "output_type": "execute_result"
    }
   ],
   "source": [
    "predict_submission"
   ]
  },
  {
   "cell_type": "code",
   "execution_count": 34,
   "id": "a64ede9f",
   "metadata": {
    "execution": {
     "iopub.execute_input": "2025-05-02T09:07:09.145099Z",
     "iopub.status.busy": "2025-05-02T09:07:09.144282Z",
     "iopub.status.idle": "2025-05-02T09:07:09.147300Z",
     "shell.execute_reply": "2025-05-02T09:07:09.147752Z",
     "shell.execute_reply.started": "2025-05-02T08:56:17.743130Z"
    },
    "papermill": {
     "duration": 0.039459,
     "end_time": "2025-05-02T09:07:09.147910",
     "exception": false,
     "start_time": "2025-05-02T09:07:09.108451",
     "status": "completed"
    },
    "tags": []
   },
   "outputs": [
    {
     "data": {
      "text/plain": [
       "['reviewer_score', 'id']"
      ]
     },
     "execution_count": 34,
     "metadata": {},
     "output_type": "execute_result"
    }
   ],
   "source": [
    "list(sample_submission)"
   ]
  },
  {
   "cell_type": "code",
   "execution_count": 36,
   "id": "b99715e0",
   "metadata": {
    "execution": {
     "iopub.execute_input": "2025-05-02T09:07:09.215354Z",
     "iopub.status.busy": "2025-05-02T09:07:09.214771Z",
     "iopub.status.idle": "2025-05-02T09:07:09.514524Z",
     "shell.execute_reply": "2025-05-02T09:07:09.514047Z",
     "shell.execute_reply.started": "2025-05-02T08:56:17.762191Z"
    },
    "papermill": {
     "duration": 0.335514,
     "end_time": "2025-05-02T09:07:09.514683",
     "exception": false,
     "start_time": "2025-05-02T09:07:09.179169",
     "status": "completed"
    },
    "tags": []
   },
   "outputs": [
    {
     "data": {
      "text/html": [
       "<div>\n",
       "<style scoped>\n",
       "    .dataframe tbody tr th:only-of-type {\n",
       "        vertical-align: middle;\n",
       "    }\n",
       "\n",
       "    .dataframe tbody tr th {\n",
       "        vertical-align: top;\n",
       "    }\n",
       "\n",
       "    .dataframe thead th {\n",
       "        text-align: right;\n",
       "    }\n",
       "</style>\n",
       "<table border=\"1\" class=\"dataframe\">\n",
       "  <thead>\n",
       "    <tr style=\"text-align: right;\">\n",
       "      <th></th>\n",
       "      <th>reviewer_score</th>\n",
       "      <th>id</th>\n",
       "    </tr>\n",
       "  </thead>\n",
       "  <tbody>\n",
       "    <tr>\n",
       "      <th>0</th>\n",
       "      <td>8.510000</td>\n",
       "      <td>488440</td>\n",
       "    </tr>\n",
       "    <tr>\n",
       "      <th>1</th>\n",
       "      <td>8.084000</td>\n",
       "      <td>274649</td>\n",
       "    </tr>\n",
       "    <tr>\n",
       "      <th>2</th>\n",
       "      <td>7.968000</td>\n",
       "      <td>374688</td>\n",
       "    </tr>\n",
       "    <tr>\n",
       "      <th>3</th>\n",
       "      <td>9.524000</td>\n",
       "      <td>404352</td>\n",
       "    </tr>\n",
       "    <tr>\n",
       "      <th>4</th>\n",
       "      <td>9.418664</td>\n",
       "      <td>451596</td>\n",
       "    </tr>\n",
       "    <tr>\n",
       "      <th>5</th>\n",
       "      <td>8.833000</td>\n",
       "      <td>302161</td>\n",
       "    </tr>\n",
       "    <tr>\n",
       "      <th>6</th>\n",
       "      <td>6.839000</td>\n",
       "      <td>317079</td>\n",
       "    </tr>\n",
       "    <tr>\n",
       "      <th>7</th>\n",
       "      <td>7.826000</td>\n",
       "      <td>13963</td>\n",
       "    </tr>\n",
       "    <tr>\n",
       "      <th>8</th>\n",
       "      <td>9.133000</td>\n",
       "      <td>159785</td>\n",
       "    </tr>\n",
       "    <tr>\n",
       "      <th>9</th>\n",
       "      <td>8.095000</td>\n",
       "      <td>195089</td>\n",
       "    </tr>\n",
       "  </tbody>\n",
       "</table>\n",
       "</div>"
      ],
      "text/plain": [
       "   reviewer_score      id\n",
       "0        8.510000  488440\n",
       "1        8.084000  274649\n",
       "2        7.968000  374688\n",
       "3        9.524000  404352\n",
       "4        9.418664  451596\n",
       "5        8.833000  302161\n",
       "6        6.839000  317079\n",
       "7        7.826000   13963\n",
       "8        9.133000  159785\n",
       "9        8.095000  195089"
      ]
     },
     "execution_count": 36,
     "metadata": {},
     "output_type": "execute_result"
    }
   ],
   "source": [
    "sample_submission['reviewer_score'] = predict_submission\n",
    "sample_submission.to_csv('data/submission.csv', index=False)\n",
    "sample_submission.head(10)"
   ]
  },
  {
   "cell_type": "code",
   "execution_count": null,
   "id": "2ad65154",
   "metadata": {
    "papermill": {
     "duration": 0.031453,
     "end_time": "2025-05-02T09:07:09.578798",
     "exception": false,
     "start_time": "2025-05-02T09:07:09.547345",
     "status": "completed"
    },
    "tags": []
   },
   "outputs": [],
   "source": []
  },
  {
   "cell_type": "code",
   "execution_count": null,
   "id": "4aa869e7",
   "metadata": {
    "papermill": {
     "duration": 0.032394,
     "end_time": "2025-05-02T09:07:09.643276",
     "exception": false,
     "start_time": "2025-05-02T09:07:09.610882",
     "status": "completed"
    },
    "tags": []
   },
   "outputs": [],
   "source": []
  },
  {
   "cell_type": "code",
   "execution_count": null,
   "id": "9283e6e7",
   "metadata": {
    "papermill": {
     "duration": 0.035134,
     "end_time": "2025-05-02T09:07:09.710360",
     "exception": false,
     "start_time": "2025-05-02T09:07:09.675226",
     "status": "completed"
    },
    "tags": []
   },
   "outputs": [],
   "source": []
  }
 ],
 "metadata": {
  "kaggle": {
   "accelerator": "none",
   "dataSources": [
    {
     "databundleVersionId": 3207826,
     "sourceId": 34288,
     "sourceType": "competition"
    }
   ],
   "dockerImageVersionId": 30157,
   "isGpuEnabled": false,
   "isInternetEnabled": false,
   "language": "python",
   "sourceType": "notebook"
  },
  "kernelspec": {
   "display_name": "Python 3",
   "language": "python",
   "name": "python3"
  },
  "language_info": {
   "codemirror_mode": {
    "name": "ipython",
    "version": 3
   },
   "file_extension": ".py",
   "mimetype": "text/x-python",
   "name": "python",
   "nbconvert_exporter": "python",
   "pygments_lexer": "ipython3",
   "version": "3.12.10"
  },
  "papermill": {
   "default_parameters": {},
   "duration": 86.985489,
   "end_time": "2025-05-02T09:07:10.854574",
   "environment_variables": {},
   "exception": null,
   "input_path": "__notebook__.ipynb",
   "output_path": "__notebook__.ipynb",
   "parameters": {},
   "start_time": "2025-05-02T09:05:43.869085",
   "version": "2.3.3"
  }
 },
 "nbformat": 4,
 "nbformat_minor": 5
}
